{
 "cells": [
  {
   "cell_type": "code",
   "execution_count": 14,
   "id": "tender-position",
   "metadata": {},
   "outputs": [],
   "source": [
    "import numpy as np\n",
    "import pandas as pd\n",
    "import seaborn as sns\n",
    "import matplotlib.pyplot as plt\n",
    "import warnings\n",
    "warnings.filterwarnings('ignore')"
   ]
  },
  {
   "cell_type": "code",
   "execution_count": 6,
   "id": "opposed-investing",
   "metadata": {},
   "outputs": [
    {
     "data": {
      "text/html": [
       "<div>\n",
       "<style scoped>\n",
       "    .dataframe tbody tr th:only-of-type {\n",
       "        vertical-align: middle;\n",
       "    }\n",
       "\n",
       "    .dataframe tbody tr th {\n",
       "        vertical-align: top;\n",
       "    }\n",
       "\n",
       "    .dataframe thead th {\n",
       "        text-align: right;\n",
       "    }\n",
       "</style>\n",
       "<table border=\"1\" class=\"dataframe\">\n",
       "  <thead>\n",
       "    <tr style=\"text-align: right;\">\n",
       "      <th></th>\n",
       "      <th>sr</th>\n",
       "      <th>TV</th>\n",
       "      <th>radio</th>\n",
       "      <th>newspaper</th>\n",
       "      <th>sales</th>\n",
       "    </tr>\n",
       "  </thead>\n",
       "  <tbody>\n",
       "    <tr>\n",
       "      <th>0</th>\n",
       "      <td>1</td>\n",
       "      <td>230.1</td>\n",
       "      <td>37.8</td>\n",
       "      <td>69.2</td>\n",
       "      <td>22.1</td>\n",
       "    </tr>\n",
       "    <tr>\n",
       "      <th>1</th>\n",
       "      <td>2</td>\n",
       "      <td>44.5</td>\n",
       "      <td>39.3</td>\n",
       "      <td>45.1</td>\n",
       "      <td>10.4</td>\n",
       "    </tr>\n",
       "    <tr>\n",
       "      <th>2</th>\n",
       "      <td>3</td>\n",
       "      <td>17.2</td>\n",
       "      <td>45.9</td>\n",
       "      <td>69.3</td>\n",
       "      <td>9.3</td>\n",
       "    </tr>\n",
       "    <tr>\n",
       "      <th>3</th>\n",
       "      <td>4</td>\n",
       "      <td>151.5</td>\n",
       "      <td>41.3</td>\n",
       "      <td>58.5</td>\n",
       "      <td>18.5</td>\n",
       "    </tr>\n",
       "    <tr>\n",
       "      <th>4</th>\n",
       "      <td>5</td>\n",
       "      <td>180.8</td>\n",
       "      <td>10.8</td>\n",
       "      <td>58.4</td>\n",
       "      <td>12.9</td>\n",
       "    </tr>\n",
       "  </tbody>\n",
       "</table>\n",
       "</div>"
      ],
      "text/plain": [
       "   sr     TV  radio  newspaper  sales\n",
       "0   1  230.1   37.8       69.2   22.1\n",
       "1   2   44.5   39.3       45.1   10.4\n",
       "2   3   17.2   45.9       69.3    9.3\n",
       "3   4  151.5   41.3       58.5   18.5\n",
       "4   5  180.8   10.8       58.4   12.9"
      ]
     },
     "execution_count": 6,
     "metadata": {},
     "output_type": "execute_result"
    }
   ],
   "source": [
    "df = pd.read_csv('Adv.csv')\n",
    "df.head()"
   ]
  },
  {
   "cell_type": "code",
   "execution_count": 7,
   "id": "complicated-mississippi",
   "metadata": {},
   "outputs": [
    {
     "data": {
      "text/html": [
       "<div>\n",
       "<style scoped>\n",
       "    .dataframe tbody tr th:only-of-type {\n",
       "        vertical-align: middle;\n",
       "    }\n",
       "\n",
       "    .dataframe tbody tr th {\n",
       "        vertical-align: top;\n",
       "    }\n",
       "\n",
       "    .dataframe thead th {\n",
       "        text-align: right;\n",
       "    }\n",
       "</style>\n",
       "<table border=\"1\" class=\"dataframe\">\n",
       "  <thead>\n",
       "    <tr style=\"text-align: right;\">\n",
       "      <th></th>\n",
       "      <th>TV</th>\n",
       "      <th>radio</th>\n",
       "      <th>newspaper</th>\n",
       "      <th>sales</th>\n",
       "    </tr>\n",
       "    <tr>\n",
       "      <th>sr</th>\n",
       "      <th></th>\n",
       "      <th></th>\n",
       "      <th></th>\n",
       "      <th></th>\n",
       "    </tr>\n",
       "  </thead>\n",
       "  <tbody>\n",
       "    <tr>\n",
       "      <th>1</th>\n",
       "      <td>230.1</td>\n",
       "      <td>37.8</td>\n",
       "      <td>69.2</td>\n",
       "      <td>22.1</td>\n",
       "    </tr>\n",
       "    <tr>\n",
       "      <th>2</th>\n",
       "      <td>44.5</td>\n",
       "      <td>39.3</td>\n",
       "      <td>45.1</td>\n",
       "      <td>10.4</td>\n",
       "    </tr>\n",
       "    <tr>\n",
       "      <th>3</th>\n",
       "      <td>17.2</td>\n",
       "      <td>45.9</td>\n",
       "      <td>69.3</td>\n",
       "      <td>9.3</td>\n",
       "    </tr>\n",
       "    <tr>\n",
       "      <th>4</th>\n",
       "      <td>151.5</td>\n",
       "      <td>41.3</td>\n",
       "      <td>58.5</td>\n",
       "      <td>18.5</td>\n",
       "    </tr>\n",
       "    <tr>\n",
       "      <th>5</th>\n",
       "      <td>180.8</td>\n",
       "      <td>10.8</td>\n",
       "      <td>58.4</td>\n",
       "      <td>12.9</td>\n",
       "    </tr>\n",
       "    <tr>\n",
       "      <th>...</th>\n",
       "      <td>...</td>\n",
       "      <td>...</td>\n",
       "      <td>...</td>\n",
       "      <td>...</td>\n",
       "    </tr>\n",
       "    <tr>\n",
       "      <th>196</th>\n",
       "      <td>38.2</td>\n",
       "      <td>3.7</td>\n",
       "      <td>13.8</td>\n",
       "      <td>7.6</td>\n",
       "    </tr>\n",
       "    <tr>\n",
       "      <th>197</th>\n",
       "      <td>94.2</td>\n",
       "      <td>4.9</td>\n",
       "      <td>8.1</td>\n",
       "      <td>9.7</td>\n",
       "    </tr>\n",
       "    <tr>\n",
       "      <th>198</th>\n",
       "      <td>177.0</td>\n",
       "      <td>9.3</td>\n",
       "      <td>6.4</td>\n",
       "      <td>12.8</td>\n",
       "    </tr>\n",
       "    <tr>\n",
       "      <th>199</th>\n",
       "      <td>283.6</td>\n",
       "      <td>42.0</td>\n",
       "      <td>66.2</td>\n",
       "      <td>25.5</td>\n",
       "    </tr>\n",
       "    <tr>\n",
       "      <th>200</th>\n",
       "      <td>232.1</td>\n",
       "      <td>8.6</td>\n",
       "      <td>8.7</td>\n",
       "      <td>13.4</td>\n",
       "    </tr>\n",
       "  </tbody>\n",
       "</table>\n",
       "<p>200 rows × 4 columns</p>\n",
       "</div>"
      ],
      "text/plain": [
       "        TV  radio  newspaper  sales\n",
       "sr                                 \n",
       "1    230.1   37.8       69.2   22.1\n",
       "2     44.5   39.3       45.1   10.4\n",
       "3     17.2   45.9       69.3    9.3\n",
       "4    151.5   41.3       58.5   18.5\n",
       "5    180.8   10.8       58.4   12.9\n",
       "..     ...    ...        ...    ...\n",
       "196   38.2    3.7       13.8    7.6\n",
       "197   94.2    4.9        8.1    9.7\n",
       "198  177.0    9.3        6.4   12.8\n",
       "199  283.6   42.0       66.2   25.5\n",
       "200  232.1    8.6        8.7   13.4\n",
       "\n",
       "[200 rows x 4 columns]"
      ]
     },
     "execution_count": 7,
     "metadata": {},
     "output_type": "execute_result"
    }
   ],
   "source": [
    "df.set_index(['sr'])"
   ]
  },
  {
   "cell_type": "code",
   "execution_count": 8,
   "id": "consistent-thomson",
   "metadata": {
    "scrolled": true
   },
   "outputs": [
    {
     "data": {
      "text/plain": [
       "sr             int64\n",
       "TV           float64\n",
       "radio        float64\n",
       "newspaper    float64\n",
       "sales        float64\n",
       "dtype: object"
      ]
     },
     "execution_count": 8,
     "metadata": {},
     "output_type": "execute_result"
    }
   ],
   "source": [
    "df.dtypes"
   ]
  },
  {
   "cell_type": "markdown",
   "id": "least-relationship",
   "metadata": {},
   "source": [
    "Float values."
   ]
  },
  {
   "cell_type": "code",
   "execution_count": 9,
   "id": "powerful-edition",
   "metadata": {},
   "outputs": [
    {
     "data": {
      "text/plain": [
       "(200, 5)"
      ]
     },
     "execution_count": 9,
     "metadata": {},
     "output_type": "execute_result"
    }
   ],
   "source": [
    "df.shape"
   ]
  },
  {
   "cell_type": "code",
   "execution_count": 10,
   "id": "administrative-hygiene",
   "metadata": {},
   "outputs": [
    {
     "data": {
      "text/plain": [
       "sr           0\n",
       "TV           0\n",
       "radio        0\n",
       "newspaper    0\n",
       "sales        0\n",
       "dtype: int64"
      ]
     },
     "execution_count": 10,
     "metadata": {},
     "output_type": "execute_result"
    }
   ],
   "source": [
    "df.isnull().sum()"
   ]
  },
  {
   "cell_type": "markdown",
   "id": "raised-present",
   "metadata": {},
   "source": [
    "No null values"
   ]
  },
  {
   "cell_type": "code",
   "execution_count": 11,
   "id": "dedicated-white",
   "metadata": {},
   "outputs": [
    {
     "data": {
      "text/plain": [
       "sr           200\n",
       "TV           190\n",
       "radio        167\n",
       "newspaper    172\n",
       "sales        121\n",
       "dtype: int64"
      ]
     },
     "execution_count": 11,
     "metadata": {},
     "output_type": "execute_result"
    }
   ],
   "source": [
    "df.nunique()"
   ]
  },
  {
   "cell_type": "code",
   "execution_count": 12,
   "id": "loose-landing",
   "metadata": {
    "scrolled": true
   },
   "outputs": [
    {
     "data": {
      "text/plain": [
       "Index(['sr', 'TV', 'radio', 'newspaper', 'sales'], dtype='object')"
      ]
     },
     "execution_count": 12,
     "metadata": {},
     "output_type": "execute_result"
    }
   ],
   "source": [
    "df.columns"
   ]
  },
  {
   "cell_type": "code",
   "execution_count": 16,
   "id": "oriental-medicine",
   "metadata": {
    "scrolled": false
   },
   "outputs": [
    {
     "data": {
      "image/png": "[encoded data removed]",
      "text/plain": [
       "<Figure size 432x288 with 1 Axes>"
      ]
     },
     "metadata": {
      "needs_background": "light"
     },
     "output_type": "display_data"
    },
    {
     "data": {
      "image/png": "[encoded data removed]",
      "text/plain": [
       "<Figure size 432x288 with 1 Axes>"
      ]
     },
     "metadata": {
      "needs_background": "light"
     },
     "output_type": "display_data"
    },
    {
     "data": {
      "image/png": "[encoded data removed]",
      "text/plain": [
       "<Figure size 432x288 with 1 Axes>"
      ]
     },
     "metadata": {
      "needs_background": "light"
     },
     "output_type": "display_data"
    }
   ],
   "source": [
    "col = ['TV', 'radio', 'newspaper']\n",
    "for i in col:\n",
    "    ax = sns.violinplot(x = i, data = df)\n",
    "    plt.show()"
   ]
  },
  {
   "cell_type": "markdown",
   "id": "automotive-colombia",
   "metadata": {},
   "source": [
    "We can see that all the variables are evenly distributed, except newspaper attribute."
   ]
  },
  {
   "cell_type": "code",
   "execution_count": 17,
   "id": "instructional-collection",
   "metadata": {},
   "outputs": [
    {
     "data": {
      "image/png": "[encoded data removed]",
      "text/plain": [
       "<Figure size 432x288 with 1 Axes>"
      ]
     },
     "metadata": {
      "needs_background": "light"
     },
     "output_type": "display_data"
    },
    {
     "data": {
      "image/png": "[encoded data removed]",
      "text/plain": [
       "<Figure size 432x288 with 1 Axes>"
      ]
     },
     "metadata": {
      "needs_background": "light"
     },
     "output_type": "display_data"
    },
    {
     "data": {
      "image/png": "[encoded data removed]",
      "text/plain": [
       "<Figure size 432x288 with 1 Axes>"
      ]
     },
     "metadata": {
      "needs_background": "light"
     },
     "output_type": "display_data"
    }
   ],
   "source": [
    "#Plotting distplot to check for skewness.\n",
    "for i in col: \n",
    "    sb.distplot(df[i], kde = True)\n",
    "    plt.show()"
   ]
  },
  {
   "cell_type": "code",
   "execution_count": 11,
   "id": "fresh-photography",
   "metadata": {
    "scrolled": true
   },
   "outputs": [
    {
     "data": {
      "text/plain": [
       "Index        0.000000\n",
       "TV          -0.069853\n",
       "radio        0.094175\n",
       "newspaper    0.894720\n",
       "sales        0.407571\n",
       "dtype: float64"
      ]
     },
     "execution_count": 11,
     "metadata": {},
     "output_type": "execute_result"
    }
   ],
   "source": [
    "df.skew()"
   ]
  },
  {
   "cell_type": "markdown",
   "id": "comic-copyright",
   "metadata": {},
   "source": [
    "The newspaper column seems to be slightly skewed. "
   ]
  },
  {
   "cell_type": "markdown",
   "id": "behavioral-vertex",
   "metadata": {},
   "source": [
    " -0.5 to +0.5 being the benchmark \n",
    "    \n"
   ]
  },
  {
   "cell_type": "markdown",
   "id": "formed-progress",
   "metadata": {},
   "source": [
    " Describing the Dataset"
   ]
  },
  {
   "cell_type": "code",
   "execution_count": 19,
   "id": "future-collect",
   "metadata": {},
   "outputs": [
    {
     "data": {
      "text/html": [
       "<div>\n",
       "<style scoped>\n",
       "    .dataframe tbody tr th:only-of-type {\n",
       "        vertical-align: middle;\n",
       "    }\n",
       "\n",
       "    .dataframe tbody tr th {\n",
       "        vertical-align: top;\n",
       "    }\n",
       "\n",
       "    .dataframe thead th {\n",
       "        text-align: right;\n",
       "    }\n",
       "</style>\n",
       "<table border=\"1\" class=\"dataframe\">\n",
       "  <thead>\n",
       "    <tr style=\"text-align: right;\">\n",
       "      <th></th>\n",
       "      <th>sr</th>\n",
       "      <th>TV</th>\n",
       "      <th>radio</th>\n",
       "      <th>newspaper</th>\n",
       "      <th>sales</th>\n",
       "    </tr>\n",
       "  </thead>\n",
       "  <tbody>\n",
       "    <tr>\n",
       "      <th>count</th>\n",
       "      <td>200.000000</td>\n",
       "      <td>200.000000</td>\n",
       "      <td>200.000000</td>\n",
       "      <td>200.000000</td>\n",
       "      <td>200.000000</td>\n",
       "    </tr>\n",
       "    <tr>\n",
       "      <th>mean</th>\n",
       "      <td>100.500000</td>\n",
       "      <td>147.042500</td>\n",
       "      <td>23.264000</td>\n",
       "      <td>30.554000</td>\n",
       "      <td>14.022500</td>\n",
       "    </tr>\n",
       "    <tr>\n",
       "      <th>std</th>\n",
       "      <td>57.879185</td>\n",
       "      <td>85.854236</td>\n",
       "      <td>14.846809</td>\n",
       "      <td>21.778621</td>\n",
       "      <td>5.217457</td>\n",
       "    </tr>\n",
       "    <tr>\n",
       "      <th>min</th>\n",
       "      <td>1.000000</td>\n",
       "      <td>0.700000</td>\n",
       "      <td>0.000000</td>\n",
       "      <td>0.300000</td>\n",
       "      <td>1.600000</td>\n",
       "    </tr>\n",
       "    <tr>\n",
       "      <th>25%</th>\n",
       "      <td>50.750000</td>\n",
       "      <td>74.375000</td>\n",
       "      <td>9.975000</td>\n",
       "      <td>12.750000</td>\n",
       "      <td>10.375000</td>\n",
       "    </tr>\n",
       "    <tr>\n",
       "      <th>50%</th>\n",
       "      <td>100.500000</td>\n",
       "      <td>149.750000</td>\n",
       "      <td>22.900000</td>\n",
       "      <td>25.750000</td>\n",
       "      <td>12.900000</td>\n",
       "    </tr>\n",
       "    <tr>\n",
       "      <th>75%</th>\n",
       "      <td>150.250000</td>\n",
       "      <td>218.825000</td>\n",
       "      <td>36.525000</td>\n",
       "      <td>45.100000</td>\n",
       "      <td>17.400000</td>\n",
       "    </tr>\n",
       "    <tr>\n",
       "      <th>max</th>\n",
       "      <td>200.000000</td>\n",
       "      <td>296.400000</td>\n",
       "      <td>49.600000</td>\n",
       "      <td>114.000000</td>\n",
       "      <td>27.000000</td>\n",
       "    </tr>\n",
       "  </tbody>\n",
       "</table>\n",
       "</div>"
      ],
      "text/plain": [
       "               sr          TV       radio   newspaper       sales\n",
       "count  200.000000  200.000000  200.000000  200.000000  200.000000\n",
       "mean   100.500000  147.042500   23.264000   30.554000   14.022500\n",
       "std     57.879185   85.854236   14.846809   21.778621    5.217457\n",
       "min      1.000000    0.700000    0.000000    0.300000    1.600000\n",
       "25%     50.750000   74.375000    9.975000   12.750000   10.375000\n",
       "50%    100.500000  149.750000   22.900000   25.750000   12.900000\n",
       "75%    150.250000  218.825000   36.525000   45.100000   17.400000\n",
       "max    200.000000  296.400000   49.600000  114.000000   27.000000"
      ]
     },
     "execution_count": 19,
     "metadata": {},
     "output_type": "execute_result"
    }
   ],
   "source": [
    "df.describe()"
   ]
  },
  {
   "cell_type": "code",
   "execution_count": 21,
   "id": "phantom-southwest",
   "metadata": {},
   "outputs": [
    {
     "data": {
      "text/plain": [
       "<AxesSubplot:>"
      ]
     },
     "execution_count": 21,
     "metadata": {},
     "output_type": "execute_result"
    },
    {
     "data": {
      "image/png": "[encoded data removed]",
      "text/plain": [
       "<Figure size 720x1224 with 2 Axes>"
      ]
     },
     "metadata": {
      "needs_background": "light"
     },
     "output_type": "display_data"
    }
   ],
   "source": [
    "plt.figure(figsize = (10,17))\n",
    "sb.heatmap(df.describe(), annot = True, fmt = '0.2f')"
   ]
  },
  {
   "cell_type": "markdown",
   "id": "exposed-fabric",
   "metadata": {},
   "source": [
    "Checking the correlation"
   ]
  },
  {
   "cell_type": "code",
   "execution_count": 22,
   "id": "tutorial-enlargement",
   "metadata": {},
   "outputs": [
    {
     "data": {
      "text/html": [
       "<div>\n",
       "<style scoped>\n",
       "    .dataframe tbody tr th:only-of-type {\n",
       "        vertical-align: middle;\n",
       "    }\n",
       "\n",
       "    .dataframe tbody tr th {\n",
       "        vertical-align: top;\n",
       "    }\n",
       "\n",
       "    .dataframe thead th {\n",
       "        text-align: right;\n",
       "    }\n",
       "</style>\n",
       "<table border=\"1\" class=\"dataframe\">\n",
       "  <thead>\n",
       "    <tr style=\"text-align: right;\">\n",
       "      <th></th>\n",
       "      <th>sr</th>\n",
       "      <th>TV</th>\n",
       "      <th>radio</th>\n",
       "      <th>newspaper</th>\n",
       "      <th>sales</th>\n",
       "    </tr>\n",
       "  </thead>\n",
       "  <tbody>\n",
       "    <tr>\n",
       "      <th>sr</th>\n",
       "      <td>1.000000</td>\n",
       "      <td>0.017715</td>\n",
       "      <td>-0.110680</td>\n",
       "      <td>-0.154944</td>\n",
       "      <td>-0.051616</td>\n",
       "    </tr>\n",
       "    <tr>\n",
       "      <th>TV</th>\n",
       "      <td>0.017715</td>\n",
       "      <td>1.000000</td>\n",
       "      <td>0.054809</td>\n",
       "      <td>0.056648</td>\n",
       "      <td>0.782224</td>\n",
       "    </tr>\n",
       "    <tr>\n",
       "      <th>radio</th>\n",
       "      <td>-0.110680</td>\n",
       "      <td>0.054809</td>\n",
       "      <td>1.000000</td>\n",
       "      <td>0.354104</td>\n",
       "      <td>0.576223</td>\n",
       "    </tr>\n",
       "    <tr>\n",
       "      <th>newspaper</th>\n",
       "      <td>-0.154944</td>\n",
       "      <td>0.056648</td>\n",
       "      <td>0.354104</td>\n",
       "      <td>1.000000</td>\n",
       "      <td>0.228299</td>\n",
       "    </tr>\n",
       "    <tr>\n",
       "      <th>sales</th>\n",
       "      <td>-0.051616</td>\n",
       "      <td>0.782224</td>\n",
       "      <td>0.576223</td>\n",
       "      <td>0.228299</td>\n",
       "      <td>1.000000</td>\n",
       "    </tr>\n",
       "  </tbody>\n",
       "</table>\n",
       "</div>"
      ],
      "text/plain": [
       "                 sr        TV     radio  newspaper     sales\n",
       "sr         1.000000  0.017715 -0.110680  -0.154944 -0.051616\n",
       "TV         0.017715  1.000000  0.054809   0.056648  0.782224\n",
       "radio     -0.110680  0.054809  1.000000   0.354104  0.576223\n",
       "newspaper -0.154944  0.056648  0.354104   1.000000  0.228299\n",
       "sales     -0.051616  0.782224  0.576223   0.228299  1.000000"
      ]
     },
     "execution_count": 22,
     "metadata": {},
     "output_type": "execute_result"
    }
   ],
   "source": [
    "df.corr()"
   ]
  },
  {
   "cell_type": "code",
   "execution_count": 24,
   "id": "stopped-arena",
   "metadata": {},
   "outputs": [
    {
     "data": {
      "text/plain": [
       "<AxesSubplot:>"
      ]
     },
     "execution_count": 24,
     "metadata": {},
     "output_type": "execute_result"
    },
    {
     "data": {
      "image/png": "[encoded data removed]",
      "text/plain": [
       "<Figure size 720x720 with 2 Axes>"
      ]
     },
     "metadata": {
      "needs_background": "light"
     },
     "output_type": "display_data"
    }
   ],
   "source": [
    "plt.figure(figsize = (10,10))\n",
    "sb.heatmap(df.corr(), annot = True, fmt = '0.2f')"
   ]
  },
  {
   "cell_type": "markdown",
   "id": "corporate-cooper",
   "metadata": {},
   "source": [
    "There is a high correlation between TV and Sales, lesser correlation between radio and sales, and even lesser correlation between newspaper and sales. "
   ]
  },
  {
   "cell_type": "code",
   "execution_count": 25,
   "id": "emerging-japanese",
   "metadata": {},
   "outputs": [
    {
     "data": {
      "text/plain": [
       "<seaborn.axisgrid.PairGrid at 0x2029b355520>"
      ]
     },
     "execution_count": 25,
     "metadata": {},
     "output_type": "execute_result"
    },
    {
     "data": {
      "image/png": "[encoded data removed]",
      "text/plain": [
       "<Figure size 900x900 with 30 Axes>"
      ]
     },
     "metadata": {
      "needs_background": "light"
     },
     "output_type": "display_data"
    }
   ],
   "source": [
    "sb.pairplot(df)"
   ]
  },
  {
   "cell_type": "markdown",
   "id": "compact-syria",
   "metadata": {},
   "source": [
    "Removing outliers"
   ]
  },
  {
   "cell_type": "code",
   "execution_count": 26,
   "id": "emerging-commonwealth",
   "metadata": {},
   "outputs": [
    {
     "data": {
      "text/plain": [
       "(array([ 16, 101], dtype=int64), array([3, 3], dtype=int64))"
      ]
     },
     "execution_count": 26,
     "metadata": {},
     "output_type": "execute_result"
    }
   ],
   "source": [
    "from scipy.stats import zscore\n",
    "import numpy as np\n",
    "z = np.abs(zscore(df))\n",
    "threshold = 2\n",
    "np.where(z>3)"
   ]
  },
  {
   "cell_type": "code",
   "execution_count": 28,
   "id": "likely-choir",
   "metadata": {},
   "outputs": [
    {
     "data": {
      "text/html": [
       "<div>\n",
       "<style scoped>\n",
       "    .dataframe tbody tr th:only-of-type {\n",
       "        vertical-align: middle;\n",
       "    }\n",
       "\n",
       "    .dataframe tbody tr th {\n",
       "        vertical-align: top;\n",
       "    }\n",
       "\n",
       "    .dataframe thead th {\n",
       "        text-align: right;\n",
       "    }\n",
       "</style>\n",
       "<table border=\"1\" class=\"dataframe\">\n",
       "  <thead>\n",
       "    <tr style=\"text-align: right;\">\n",
       "      <th></th>\n",
       "      <th>sr</th>\n",
       "      <th>TV</th>\n",
       "      <th>radio</th>\n",
       "      <th>newspaper</th>\n",
       "      <th>sales</th>\n",
       "    </tr>\n",
       "  </thead>\n",
       "  <tbody>\n",
       "    <tr>\n",
       "      <th>0</th>\n",
       "      <td>1</td>\n",
       "      <td>230.1</td>\n",
       "      <td>37.8</td>\n",
       "      <td>69.2</td>\n",
       "      <td>22.1</td>\n",
       "    </tr>\n",
       "    <tr>\n",
       "      <th>1</th>\n",
       "      <td>2</td>\n",
       "      <td>44.5</td>\n",
       "      <td>39.3</td>\n",
       "      <td>45.1</td>\n",
       "      <td>10.4</td>\n",
       "    </tr>\n",
       "    <tr>\n",
       "      <th>2</th>\n",
       "      <td>3</td>\n",
       "      <td>17.2</td>\n",
       "      <td>45.9</td>\n",
       "      <td>69.3</td>\n",
       "      <td>9.3</td>\n",
       "    </tr>\n",
       "    <tr>\n",
       "      <th>3</th>\n",
       "      <td>4</td>\n",
       "      <td>151.5</td>\n",
       "      <td>41.3</td>\n",
       "      <td>58.5</td>\n",
       "      <td>18.5</td>\n",
       "    </tr>\n",
       "    <tr>\n",
       "      <th>4</th>\n",
       "      <td>5</td>\n",
       "      <td>180.8</td>\n",
       "      <td>10.8</td>\n",
       "      <td>58.4</td>\n",
       "      <td>12.9</td>\n",
       "    </tr>\n",
       "    <tr>\n",
       "      <th>...</th>\n",
       "      <td>...</td>\n",
       "      <td>...</td>\n",
       "      <td>...</td>\n",
       "      <td>...</td>\n",
       "      <td>...</td>\n",
       "    </tr>\n",
       "    <tr>\n",
       "      <th>195</th>\n",
       "      <td>196</td>\n",
       "      <td>38.2</td>\n",
       "      <td>3.7</td>\n",
       "      <td>13.8</td>\n",
       "      <td>7.6</td>\n",
       "    </tr>\n",
       "    <tr>\n",
       "      <th>196</th>\n",
       "      <td>197</td>\n",
       "      <td>94.2</td>\n",
       "      <td>4.9</td>\n",
       "      <td>8.1</td>\n",
       "      <td>9.7</td>\n",
       "    </tr>\n",
       "    <tr>\n",
       "      <th>197</th>\n",
       "      <td>198</td>\n",
       "      <td>177.0</td>\n",
       "      <td>9.3</td>\n",
       "      <td>6.4</td>\n",
       "      <td>12.8</td>\n",
       "    </tr>\n",
       "    <tr>\n",
       "      <th>198</th>\n",
       "      <td>199</td>\n",
       "      <td>283.6</td>\n",
       "      <td>42.0</td>\n",
       "      <td>66.2</td>\n",
       "      <td>25.5</td>\n",
       "    </tr>\n",
       "    <tr>\n",
       "      <th>199</th>\n",
       "      <td>200</td>\n",
       "      <td>232.1</td>\n",
       "      <td>8.6</td>\n",
       "      <td>8.7</td>\n",
       "      <td>13.4</td>\n",
       "    </tr>\n",
       "  </tbody>\n",
       "</table>\n",
       "<p>198 rows × 5 columns</p>\n",
       "</div>"
      ],
      "text/plain": [
       "      sr     TV  radio  newspaper  sales\n",
       "0      1  230.1   37.8       69.2   22.1\n",
       "1      2   44.5   39.3       45.1   10.4\n",
       "2      3   17.2   45.9       69.3    9.3\n",
       "3      4  151.5   41.3       58.5   18.5\n",
       "4      5  180.8   10.8       58.4   12.9\n",
       "..   ...    ...    ...        ...    ...\n",
       "195  196   38.2    3.7       13.8    7.6\n",
       "196  197   94.2    4.9        8.1    9.7\n",
       "197  198  177.0    9.3        6.4   12.8\n",
       "198  199  283.6   42.0       66.2   25.5\n",
       "199  200  232.1    8.6        8.7   13.4\n",
       "\n",
       "[198 rows x 5 columns]"
      ]
     },
     "execution_count": 28,
     "metadata": {},
     "output_type": "execute_result"
    }
   ],
   "source": [
    "df_new = df[(z<3).all(axis = 1)]\n",
    "df_new"
   ]
  },
  {
   "cell_type": "code",
   "execution_count": 29,
   "id": "quiet-guarantee",
   "metadata": {},
   "outputs": [
    {
     "data": {
      "text/plain": [
       "(198, 5)"
      ]
     },
     "execution_count": 29,
     "metadata": {},
     "output_type": "execute_result"
    }
   ],
   "source": [
    "df_new.shape"
   ]
  },
  {
   "cell_type": "code",
   "execution_count": 30,
   "id": "advisory-command",
   "metadata": {},
   "outputs": [
    {
     "data": {
      "text/plain": [
       "<AxesSubplot:>"
      ]
     },
     "execution_count": 30,
     "metadata": {},
     "output_type": "execute_result"
    },
    {
     "data": {
      "image/png": "[encoded data removed]",
      "text/plain": [
       "<Figure size 432x288 with 1 Axes>"
      ]
     },
     "metadata": {
      "needs_background": "light"
     },
     "output_type": "display_data"
    }
   ],
   "source": [
    "df['newspaper'].plot.box()"
   ]
  },
  {
   "cell_type": "code",
   "execution_count": 31,
   "id": "divine-evolution",
   "metadata": {},
   "outputs": [],
   "source": [
    "df = df_new"
   ]
  },
  {
   "cell_type": "code",
   "execution_count": 32,
   "id": "popular-thousand",
   "metadata": {},
   "outputs": [
    {
     "data": {
      "text/plain": [
       "(198, 5)"
      ]
     },
     "execution_count": 32,
     "metadata": {},
     "output_type": "execute_result"
    }
   ],
   "source": [
    "df.shape"
   ]
  },
  {
   "cell_type": "markdown",
   "id": "simple-macintosh",
   "metadata": {},
   "source": [
    "Splitting"
   ]
  },
  {
   "cell_type": "code",
   "execution_count": 33,
   "id": "treated-storm",
   "metadata": {},
   "outputs": [],
   "source": [
    "x = df.iloc[:, 1:4]"
   ]
  },
  {
   "cell_type": "code",
   "execution_count": 34,
   "id": "departmental-mozambique",
   "metadata": {},
   "outputs": [
    {
     "data": {
      "text/html": [
       "<div>\n",
       "<style scoped>\n",
       "    .dataframe tbody tr th:only-of-type {\n",
       "        vertical-align: middle;\n",
       "    }\n",
       "\n",
       "    .dataframe tbody tr th {\n",
       "        vertical-align: top;\n",
       "    }\n",
       "\n",
       "    .dataframe thead th {\n",
       "        text-align: right;\n",
       "    }\n",
       "</style>\n",
       "<table border=\"1\" class=\"dataframe\">\n",
       "  <thead>\n",
       "    <tr style=\"text-align: right;\">\n",
       "      <th></th>\n",
       "      <th>TV</th>\n",
       "      <th>radio</th>\n",
       "      <th>newspaper</th>\n",
       "    </tr>\n",
       "  </thead>\n",
       "  <tbody>\n",
       "    <tr>\n",
       "      <th>0</th>\n",
       "      <td>230.1</td>\n",
       "      <td>37.8</td>\n",
       "      <td>69.2</td>\n",
       "    </tr>\n",
       "    <tr>\n",
       "      <th>1</th>\n",
       "      <td>44.5</td>\n",
       "      <td>39.3</td>\n",
       "      <td>45.1</td>\n",
       "    </tr>\n",
       "    <tr>\n",
       "      <th>2</th>\n",
       "      <td>17.2</td>\n",
       "      <td>45.9</td>\n",
       "      <td>69.3</td>\n",
       "    </tr>\n",
       "    <tr>\n",
       "      <th>3</th>\n",
       "      <td>151.5</td>\n",
       "      <td>41.3</td>\n",
       "      <td>58.5</td>\n",
       "    </tr>\n",
       "    <tr>\n",
       "      <th>4</th>\n",
       "      <td>180.8</td>\n",
       "      <td>10.8</td>\n",
       "      <td>58.4</td>\n",
       "    </tr>\n",
       "  </tbody>\n",
       "</table>\n",
       "</div>"
      ],
      "text/plain": [
       "      TV  radio  newspaper\n",
       "0  230.1   37.8       69.2\n",
       "1   44.5   39.3       45.1\n",
       "2   17.2   45.9       69.3\n",
       "3  151.5   41.3       58.5\n",
       "4  180.8   10.8       58.4"
      ]
     },
     "execution_count": 34,
     "metadata": {},
     "output_type": "execute_result"
    }
   ],
   "source": [
    "x.head()"
   ]
  },
  {
   "cell_type": "code",
   "execution_count": 35,
   "id": "alien-remainder",
   "metadata": {},
   "outputs": [
    {
     "data": {
      "text/plain": [
       "0    22.1\n",
       "1    10.4\n",
       "2     9.3\n",
       "3    18.5\n",
       "4    12.9\n",
       "Name: sales, dtype: float64"
      ]
     },
     "execution_count": 35,
     "metadata": {},
     "output_type": "execute_result"
    }
   ],
   "source": [
    "y = df.iloc[:, -1]\n",
    "y.head()"
   ]
  },
  {
   "cell_type": "markdown",
   "id": "attended-coalition",
   "metadata": {},
   "source": [
    "### Scaling the data using Min-Max scaler"
   ]
  },
  {
   "cell_type": "code",
   "execution_count": 36,
   "id": "limiting-logistics",
   "metadata": {},
   "outputs": [],
   "source": [
    "from sklearn.preprocessing import MinMaxScaler\n",
    "mms = MinMaxScaler()"
   ]
  },
  {
   "cell_type": "code",
   "execution_count": 37,
   "id": "governing-execution",
   "metadata": {},
   "outputs": [],
   "source": [
    "x = mms.fit_transform(x)"
   ]
  },
  {
   "cell_type": "code",
   "execution_count": 38,
   "id": "divine-tampa",
   "metadata": {},
   "outputs": [
    {
     "data": {
      "text/plain": [
       "(198, 3)"
      ]
     },
     "execution_count": 38,
     "metadata": {},
     "output_type": "execute_result"
    }
   ],
   "source": [
    "x.shape"
   ]
  },
  {
   "cell_type": "code",
   "execution_count": 39,
   "id": "dress-airfare",
   "metadata": {},
   "outputs": [
    {
     "data": {
      "text/plain": [
       "(198,)"
      ]
     },
     "execution_count": 39,
     "metadata": {},
     "output_type": "execute_result"
    }
   ],
   "source": [
    "y.shape"
   ]
  },
  {
   "cell_type": "code",
   "execution_count": 40,
   "id": "manual-environment",
   "metadata": {},
   "outputs": [],
   "source": [
    "from sklearn.model_selection import train_test_split\n",
    "from sklearn.metrics import r2_score, mean_absolute_error, mean_squared_error\n",
    "from sklearn.linear_model import LinearRegression"
   ]
  },
  {
   "cell_type": "code",
   "execution_count": 41,
   "id": "loaded-stephen",
   "metadata": {},
   "outputs": [],
   "source": [
    "lr = LinearRegression()"
   ]
  },
  {
   "cell_type": "code",
   "execution_count": 42,
   "id": "conventional-commons",
   "metadata": {
    "scrolled": true
   },
   "outputs": [
    {
     "name": "stdout",
     "output_type": "stream",
     "text": [
      "At random state 0, the training accuracy is: 0.8858699452083801\n",
      "At random state 0, the testing accuracy is: 0.9068225024835147\n",
      "\n",
      "\n",
      "At random state 1, the training accuracy is: 0.886089690919527\n",
      "At random state 1, the testing accuracy is: 0.9057939794969586\n",
      "\n",
      "\n",
      "At random state 2, the training accuracy is: 0.9137739454384091\n",
      "At random state 2, the testing accuracy is: 0.8584029190210045\n",
      "\n",
      "\n",
      "At random state 3, the training accuracy is: 0.9023834789281908\n",
      "At random state 3, the testing accuracy is: 0.8809940152870163\n",
      "\n",
      "\n",
      "At random state 4, the training accuracy is: 0.9002938768700731\n",
      "At random state 4, the testing accuracy is: 0.8721688368509896\n",
      "\n",
      "\n",
      "At random state 5, the training accuracy is: 0.895935137523506\n",
      "At random state 5, the testing accuracy is: 0.8875354306856444\n",
      "\n",
      "\n",
      "At random state 6, the training accuracy is: 0.9017449009440633\n",
      "At random state 6, the testing accuracy is: 0.8796613306000014\n",
      "\n",
      "\n",
      "At random state 7, the training accuracy is: 0.89222748011076\n",
      "At random state 7, the testing accuracy is: 0.8998253582480862\n",
      "\n",
      "\n",
      "At random state 8, the training accuracy is: 0.9029760471576862\n",
      "At random state 8, the testing accuracy is: 0.8707283790784714\n",
      "\n",
      "\n",
      "At random state 9, the training accuracy is: 0.8800010792264745\n",
      "At random state 9, the testing accuracy is: 0.9208083936155473\n",
      "\n",
      "\n",
      "At random state 10, the training accuracy is: 0.923708293910713\n",
      "At random state 10, the testing accuracy is: 0.8284448801155326\n",
      "\n",
      "\n",
      "At random state 11, the training accuracy is: 0.8950874455865587\n",
      "At random state 11, the testing accuracy is: 0.8812440395776187\n",
      "\n",
      "\n",
      "At random state 12, the training accuracy is: 0.8971696717544586\n",
      "At random state 12, the testing accuracy is: 0.889659577374849\n",
      "\n",
      "\n",
      "At random state 13, the training accuracy is: 0.9035289237815527\n",
      "At random state 13, the testing accuracy is: 0.8715560938872327\n",
      "\n",
      "\n",
      "At random state 14, the training accuracy is: 0.8856824704697593\n",
      "At random state 14, the testing accuracy is: 0.9048576681634803\n",
      "\n",
      "\n",
      "At random state 15, the training accuracy is: 0.8986656113459681\n",
      "At random state 15, the testing accuracy is: 0.8734556609000871\n",
      "\n",
      "\n",
      "At random state 16, the training accuracy is: 0.8971961231180287\n",
      "At random state 16, the testing accuracy is: 0.8872947841932494\n",
      "\n",
      "\n",
      "At random state 17, the training accuracy is: 0.8859123187756281\n",
      "At random state 17, the testing accuracy is: 0.9091601005657292\n",
      "\n",
      "\n",
      "At random state 18, the training accuracy is: 0.914236109686272\n",
      "At random state 18, the testing accuracy is: 0.8497755346889547\n",
      "\n",
      "\n",
      "At random state 19, the training accuracy is: 0.8899806372432066\n",
      "At random state 19, the testing accuracy is: 0.9019718122957023\n",
      "\n",
      "\n",
      "At random state 20, the training accuracy is: 0.9073003087353176\n",
      "At random state 20, the testing accuracy is: 0.8721259236463152\n",
      "\n",
      "\n",
      "At random state 21, the training accuracy is: 0.8853018536210429\n",
      "At random state 21, the testing accuracy is: 0.9139386340652851\n",
      "\n",
      "\n",
      "At random state 22, the training accuracy is: 0.8934835861664506\n",
      "At random state 22, the testing accuracy is: 0.8912179517414769\n",
      "\n",
      "\n",
      "At random state 23, the training accuracy is: 0.8871503675522047\n",
      "At random state 23, the testing accuracy is: 0.9125365920310721\n",
      "\n",
      "\n",
      "At random state 24, the training accuracy is: 0.8828997896722309\n",
      "At random state 24, the testing accuracy is: 0.9184445718497936\n",
      "\n",
      "\n",
      "At random state 25, the training accuracy is: 0.8903193158121829\n",
      "At random state 25, the testing accuracy is: 0.9052402216637819\n",
      "\n",
      "\n",
      "At random state 26, the training accuracy is: 0.9075437186806439\n",
      "At random state 26, the testing accuracy is: 0.8458785656751604\n",
      "\n",
      "\n",
      "At random state 27, the training accuracy is: 0.9090208448348632\n",
      "At random state 27, the testing accuracy is: 0.8495030853704711\n",
      "\n",
      "\n",
      "At random state 28, the training accuracy is: 0.9141436295231619\n",
      "At random state 28, the testing accuracy is: 0.8437037595671717\n",
      "\n",
      "\n",
      "At random state 29, the training accuracy is: 0.904465838339172\n",
      "At random state 29, the testing accuracy is: 0.8691231144137644\n",
      "\n",
      "\n",
      "At random state 30, the training accuracy is: 0.9118438050796144\n",
      "At random state 30, the testing accuracy is: 0.8548933096459432\n",
      "\n",
      "\n",
      "At random state 31, the training accuracy is: 0.8825342755242542\n",
      "At random state 31, the testing accuracy is: 0.9136432124556677\n",
      "\n",
      "\n",
      "At random state 32, the training accuracy is: 0.8880843630175634\n",
      "At random state 32, the testing accuracy is: 0.9083482382456668\n",
      "\n",
      "\n",
      "At random state 33, the training accuracy is: 0.887500685978574\n",
      "At random state 33, the testing accuracy is: 0.9057551183970902\n",
      "\n",
      "\n",
      "At random state 34, the training accuracy is: 0.9035241815539\n",
      "At random state 34, the testing accuracy is: 0.8747139109373355\n",
      "\n",
      "\n",
      "At random state 35, the training accuracy is: 0.8839182043979065\n",
      "At random state 35, the testing accuracy is: 0.918580599200981\n",
      "\n",
      "\n",
      "At random state 36, the training accuracy is: 0.8769187828667458\n",
      "At random state 36, the testing accuracy is: 0.9264373776056877\n",
      "\n",
      "\n",
      "At random state 37, the training accuracy is: 0.8907918463325628\n",
      "At random state 37, the testing accuracy is: 0.9079846337333325\n",
      "\n",
      "\n",
      "At random state 38, the training accuracy is: 0.8975111602151922\n",
      "At random state 38, the testing accuracy is: 0.884522024157735\n",
      "\n",
      "\n",
      "At random state 39, the training accuracy is: 0.9209676849869745\n",
      "At random state 39, the testing accuracy is: 0.8382881636701436\n",
      "\n",
      "\n",
      "At random state 40, the training accuracy is: 0.8944453383808122\n",
      "At random state 40, the testing accuracy is: 0.8922148687747624\n",
      "\n",
      "\n",
      "At random state 41, the training accuracy is: 0.8936014169419066\n",
      "At random state 41, the testing accuracy is: 0.8933767863464055\n",
      "\n",
      "\n",
      "At random state 42, the training accuracy is: 0.8949751177619989\n",
      "At random state 42, the testing accuracy is: 0.8851774936997314\n",
      "\n",
      "\n",
      "At random state 43, the training accuracy is: 0.9092806386708117\n",
      "At random state 43, the testing accuracy is: 0.8623221057555003\n",
      "\n",
      "\n",
      "At random state 44, the training accuracy is: 0.9068321844838592\n",
      "At random state 44, the testing accuracy is: 0.8226103912458738\n",
      "\n",
      "\n",
      "At random state 45, the training accuracy is: 0.8852564655771381\n",
      "At random state 45, the testing accuracy is: 0.9134949554356617\n",
      "\n",
      "\n",
      "At random state 46, the training accuracy is: 0.8924307006476675\n",
      "At random state 46, the testing accuracy is: 0.8990565680293763\n",
      "\n",
      "\n",
      "At random state 47, the training accuracy is: 0.8986698137026276\n",
      "At random state 47, the testing accuracy is: 0.8820851542052873\n",
      "\n",
      "\n",
      "At random state 48, the training accuracy is: 0.9133605761742859\n",
      "At random state 48, the testing accuracy is: 0.8402761046378445\n",
      "\n",
      "\n",
      "At random state 49, the training accuracy is: 0.9075402702547347\n",
      "At random state 49, the testing accuracy is: 0.8658801627090854\n",
      "\n",
      "\n",
      "At random state 50, the training accuracy is: 0.9020512816185613\n",
      "At random state 50, the testing accuracy is: 0.8645145010574453\n",
      "\n",
      "\n",
      "At random state 51, the training accuracy is: 0.8927449284687781\n",
      "At random state 51, the testing accuracy is: 0.894432819757971\n",
      "\n",
      "\n",
      "At random state 52, the training accuracy is: 0.892220569743811\n",
      "At random state 52, the testing accuracy is: 0.8931318127884219\n",
      "\n",
      "\n",
      "At random state 53, the training accuracy is: 0.9105157471287115\n",
      "At random state 53, the testing accuracy is: 0.8594911719655899\n",
      "\n",
      "\n",
      "At random state 54, the training accuracy is: 0.8982799422745233\n",
      "At random state 54, the testing accuracy is: 0.8866690325006563\n",
      "\n",
      "\n",
      "At random state 55, the training accuracy is: 0.88947472491047\n",
      "At random state 55, the testing accuracy is: 0.9038609442070772\n",
      "\n",
      "\n",
      "At random state 56, the training accuracy is: 0.9018963373598472\n",
      "At random state 56, the testing accuracy is: 0.8704778671637923\n",
      "\n",
      "\n",
      "At random state 57, the training accuracy is: 0.9102810492561247\n",
      "At random state 57, the testing accuracy is: 0.8604434393550908\n",
      "\n",
      "\n",
      "At random state 58, the training accuracy is: 0.8883989038648941\n",
      "At random state 58, the testing accuracy is: 0.9080429370751605\n",
      "\n",
      "\n",
      "At random state 59, the training accuracy is: 0.8838878019325821\n",
      "At random state 59, the testing accuracy is: 0.9210388031716974\n",
      "\n",
      "\n",
      "At random state 60, the training accuracy is: 0.89061769495724\n",
      "At random state 60, the testing accuracy is: 0.8952077514029648\n",
      "\n",
      "\n",
      "At random state 61, the training accuracy is: 0.9076067999677688\n",
      "At random state 61, the testing accuracy is: 0.8614824425334016\n",
      "\n",
      "\n",
      "At random state 62, the training accuracy is: 0.9040393474635013\n",
      "At random state 62, the testing accuracy is: 0.8584890258201391\n",
      "\n",
      "\n",
      "At random state 63, the training accuracy is: 0.8975004817202747\n",
      "At random state 63, the testing accuracy is: 0.8826443202084349\n",
      "\n",
      "\n",
      "At random state 64, the training accuracy is: 0.8895616658792077\n",
      "At random state 64, the testing accuracy is: 0.9071733277577685\n",
      "\n",
      "\n",
      "At random state 65, the training accuracy is: 0.8988206938867279\n",
      "At random state 65, the testing accuracy is: 0.8855815489192903\n",
      "\n",
      "\n",
      "At random state 66, the training accuracy is: 0.9093216008678632\n",
      "At random state 66, the testing accuracy is: 0.8609638969968614\n",
      "\n",
      "\n",
      "At random state 67, the training accuracy is: 0.9136220650556273\n",
      "At random state 67, the testing accuracy is: 0.8369927930576351\n",
      "\n",
      "\n",
      "At random state 68, the training accuracy is: 0.9100529229079708\n",
      "At random state 68, the testing accuracy is: 0.8489794215558215\n",
      "\n",
      "\n",
      "At random state 69, the training accuracy is: 0.8874796467560548\n",
      "At random state 69, the testing accuracy is: 0.9113500863167276\n",
      "\n",
      "\n",
      "At random state 70, the training accuracy is: 0.8784926937242475\n",
      "At random state 70, the testing accuracy is: 0.9229249347284301\n",
      "\n",
      "\n",
      "At random state 71, the training accuracy is: 0.903549216538596\n",
      "At random state 71, the testing accuracy is: 0.8670653394898917\n",
      "\n",
      "\n",
      "At random state 72, the training accuracy is: 0.8942013509409262\n",
      "At random state 72, the testing accuracy is: 0.8878601298276705\n",
      "\n",
      "\n",
      "At random state 73, the training accuracy is: 0.906586618333861\n",
      "At random state 73, the testing accuracy is: 0.8520825035287036\n",
      "\n",
      "\n",
      "At random state 74, the training accuracy is: 0.8769946221781517\n",
      "At random state 74, the testing accuracy is: 0.9165754984843429\n",
      "\n",
      "\n",
      "At random state 75, the training accuracy is: 0.893951105810423\n",
      "At random state 75, the testing accuracy is: 0.8847466761742473\n",
      "\n",
      "\n",
      "At random state 76, the training accuracy is: 0.9087097619849821\n",
      "At random state 76, the testing accuracy is: 0.8525102934420404\n",
      "\n",
      "\n",
      "At random state 77, the training accuracy is: 0.8974249883626961\n",
      "At random state 77, the testing accuracy is: 0.8861194636677392\n",
      "\n",
      "\n",
      "At random state 78, the training accuracy is: 0.9169621323843647\n",
      "At random state 78, the testing accuracy is: 0.7976203398705747\n",
      "\n",
      "\n",
      "At random state 79, the training accuracy is: 0.8917819750398744\n",
      "At random state 79, the testing accuracy is: 0.8913420600945413\n",
      "\n",
      "\n",
      "At random state 80, the training accuracy is: 0.9101016022238976\n",
      "At random state 80, the testing accuracy is: 0.8542644746016085\n",
      "\n",
      "\n",
      "At random state 81, the training accuracy is: 0.8860270981868439\n",
      "At random state 81, the testing accuracy is: 0.9153799142358502\n",
      "\n",
      "\n",
      "At random state 82, the training accuracy is: 0.9135664204633508\n",
      "At random state 82, the testing accuracy is: 0.8318705857447494\n",
      "\n",
      "\n",
      "At random state 83, the training accuracy is: 0.8977455609604107\n",
      "At random state 83, the testing accuracy is: 0.8885888832949178\n",
      "\n",
      "\n",
      "At random state 84, the training accuracy is: 0.8773468497888726\n",
      "At random state 84, the testing accuracy is: 0.9313062022373504\n",
      "\n",
      "\n",
      "At random state 85, the training accuracy is: 0.9176717840377813\n",
      "At random state 85, the testing accuracy is: 0.7968521068494534\n",
      "\n",
      "\n",
      "At random state 86, the training accuracy is: 0.8916962151495524\n",
      "At random state 86, the testing accuracy is: 0.897772342469838\n",
      "\n",
      "\n",
      "At random state 87, the training accuracy is: 0.9072690531206464\n",
      "At random state 87, the testing accuracy is: 0.8632922688841436\n",
      "\n",
      "\n",
      "At random state 88, the training accuracy is: 0.8895429829806211\n",
      "At random state 88, the testing accuracy is: 0.9092737484973548\n",
      "\n",
      "\n"
     ]
    },
    {
     "name": "stdout",
     "output_type": "stream",
     "text": [
      "At random state 89, the training accuracy is: 0.9019819107107756\n",
      "At random state 89, the testing accuracy is: 0.8747888442086135\n",
      "\n",
      "\n",
      "At random state 90, the training accuracy is: 0.8781187090255373\n",
      "At random state 90, the testing accuracy is: 0.9373215416328826\n",
      "\n",
      "\n",
      "At random state 91, the training accuracy is: 0.9000044551122609\n",
      "At random state 91, the testing accuracy is: 0.8639583701822211\n",
      "\n",
      "\n",
      "At random state 92, the training accuracy is: 0.8847987303255741\n",
      "At random state 92, the testing accuracy is: 0.9052244765001731\n",
      "\n",
      "\n",
      "At random state 93, the training accuracy is: 0.9049270532216066\n",
      "At random state 93, the testing accuracy is: 0.8681798145419224\n",
      "\n",
      "\n",
      "At random state 94, the training accuracy is: 0.9048154047476872\n",
      "At random state 94, the testing accuracy is: 0.8756438421063288\n",
      "\n",
      "\n",
      "At random state 95, the training accuracy is: 0.9015219277302224\n",
      "At random state 95, the testing accuracy is: 0.8680025686383874\n",
      "\n",
      "\n",
      "At random state 96, the training accuracy is: 0.8967746737207124\n",
      "At random state 96, the testing accuracy is: 0.8886704677331159\n",
      "\n",
      "\n",
      "At random state 97, the training accuracy is: 0.8964443407127717\n",
      "At random state 97, the testing accuracy is: 0.8849391263265269\n",
      "\n",
      "\n",
      "At random state 98, the training accuracy is: 0.91285539269527\n",
      "At random state 98, the testing accuracy is: 0.8485078012689005\n",
      "\n",
      "\n",
      "At random state 99, the training accuracy is: 0.8847127597652709\n",
      "At random state 99, the testing accuracy is: 0.9155067738122787\n",
      "\n",
      "\n"
     ]
    }
   ],
   "source": [
    "for i in range(0,100):\n",
    "    x_train, x_test, y_train, y_test = train_test_split(x, y, test_size = 0.3, random_state = i)\n",
    "    lr.fit(x_train, y_train)\n",
    "    pred_train = lr.predict(x_train)\n",
    "    pred_test = lr.predict(x_test)\n",
    "    \n",
    "    print(f'At random state {i}, the training accuracy is: {r2_score(y_train, pred_train)}')\n",
    "    print(f'At random state {i}, the testing accuracy is: {r2_score(y_test, pred_test)}')\n",
    "    print('\\n')"
   ]
  },
  {
   "cell_type": "markdown",
   "id": "friendly-monster",
   "metadata": {},
   "source": [
    "We get the best training and testing accuracy at random state 41. "
   ]
  },
  {
   "cell_type": "code",
   "execution_count": 43,
   "id": "chinese-lewis",
   "metadata": {},
   "outputs": [],
   "source": [
    "x_train, x_test, y_train, y_test = train_test_split(x, y, test_size = .30, random_state = 41)"
   ]
  },
  {
   "cell_type": "code",
   "execution_count": 44,
   "id": "caring-package",
   "metadata": {},
   "outputs": [
    {
     "data": {
      "text/plain": [
       "(138, 3)"
      ]
     },
     "execution_count": 44,
     "metadata": {},
     "output_type": "execute_result"
    }
   ],
   "source": [
    "x_train.shape"
   ]
  },
  {
   "cell_type": "code",
   "execution_count": 45,
   "id": "unusual-subsection",
   "metadata": {},
   "outputs": [
    {
     "data": {
      "text/plain": [
       "(60, 3)"
      ]
     },
     "execution_count": 45,
     "metadata": {},
     "output_type": "execute_result"
    }
   ],
   "source": [
    "x_test.shape"
   ]
  },
  {
   "cell_type": "code",
   "execution_count": 46,
   "id": "coordinated-collection",
   "metadata": {},
   "outputs": [
    {
     "data": {
      "text/plain": [
       "(138,)"
      ]
     },
     "execution_count": 46,
     "metadata": {},
     "output_type": "execute_result"
    }
   ],
   "source": [
    "y_train.shape"
   ]
  },
  {
   "cell_type": "code",
   "execution_count": 47,
   "id": "labeled-jacket",
   "metadata": {},
   "outputs": [
    {
     "data": {
      "text/plain": [
       "(60,)"
      ]
     },
     "execution_count": 47,
     "metadata": {},
     "output_type": "execute_result"
    }
   ],
   "source": [
    "y_test.shape"
   ]
  },
  {
   "cell_type": "markdown",
   "id": "female-portugal",
   "metadata": {},
   "source": [
    "Modelling"
   ]
  },
  {
   "cell_type": "code",
   "execution_count": 48,
   "id": "broken-trust",
   "metadata": {},
   "outputs": [],
   "source": [
    "from sklearn.linear_model import LinearRegression\n",
    "from sklearn.neighbors import KNeighborsRegressor\n",
    "from sklearn.tree import DecisionTreeRegressor\n",
    "from sklearn.svm import SVR\n",
    "from sklearn.linear_model import Lasso, Ridge, ElasticNet\n",
    "from sklearn.ensemble import RandomForestRegressor"
   ]
  },
  {
   "cell_type": "code",
   "execution_count": 49,
   "id": "expired-ballot",
   "metadata": {},
   "outputs": [],
   "source": [
    "lr = LinearRegression()\n",
    "knr = KNeighborsRegressor()\n",
    "dtr = DecisionTreeRegressor()\n",
    "svr = SVR()\n",
    "rfr = RandomForestRegressor()\n",
    "ls = Lasso()\n",
    "rd = Ridge()\n",
    "eln = ElasticNet()"
   ]
  },
  {
   "cell_type": "code",
   "execution_count": 50,
   "id": "guilty-terminal",
   "metadata": {
    "scrolled": true
   },
   "outputs": [
    {
     "name": "stdout",
     "output_type": "stream",
     "text": [
      "LinearRegression()\n",
      "Score:  0.8936014169419066\n",
      "Mean absolute error:  1.1963503738157542\n",
      "Mean squared error:  3.2757953592251576\n",
      "Root mean squared error:  1.8099158431333644\n",
      "R2 Score:  0.8933767863464055\n",
      "\n",
      "\n",
      "\n",
      "KNeighborsRegressor()\n",
      "Score:  0.9649062930720114\n",
      "Mean absolute error:  0.952333333333333\n",
      "Mean squared error:  2.211513333333333\n",
      "Root mean squared error:  1.4871157767078302\n",
      "R2 Score:  0.9280178909913507\n",
      "\n",
      "\n",
      "\n",
      "DecisionTreeRegressor()\n",
      "Score:  1.0\n",
      "Mean absolute error:  0.836666666666667\n",
      "Mean squared error:  1.1733333333333333\n",
      "Root mean squared error:  1.0832051206181281\n",
      "R2 Score:  0.9618094059708064\n",
      "\n",
      "\n",
      "\n",
      "SVR()\n",
      "Score:  0.9297384930642448\n",
      "Mean absolute error:  1.0308043376867044\n",
      "Mean squared error:  2.908695771552174\n",
      "Root mean squared error:  1.705489891952507\n",
      "R2 Score:  0.9053254380405276\n",
      "\n",
      "\n",
      "\n",
      "RandomForestRegressor()\n",
      "Score:  0.9971018377412578\n",
      "Mean absolute error:  0.5958333333333324\n",
      "Mean squared error:  0.6962202333333292\n",
      "Root mean squared error:  0.8343981263961042\n",
      "R2 Score:  0.9773388656652185\n",
      "\n",
      "\n",
      "\n",
      "Lasso()\n",
      "Score:  0.09242087123128084\n",
      "Mean absolute error:  4.451494521888721\n",
      "Mean squared error:  28.698785508664557\n",
      "Root mean squared error:  5.357124742682828\n",
      "R2 Score:  0.06588892060314389\n",
      "\n",
      "\n",
      "\n",
      "Ridge()\n",
      "Score:  0.8878933716987258\n",
      "Mean absolute error:  1.3238503340421555\n",
      "Mean squared error:  3.6676450926973048\n",
      "Root mean squared error:  1.915109681636356\n",
      "R2 Score:  0.880622547063892\n",
      "\n",
      "\n",
      "\n",
      "ElasticNet()\n",
      "Score:  0.12953862417587247\n",
      "Mean absolute error:  4.3746648563192485\n",
      "Mean squared error:  27.77497316971337\n",
      "Root mean squared error:  5.270196691748171\n",
      "R2 Score:  0.0959579052588635\n",
      "\n",
      "\n",
      "\n"
     ]
    }
   ],
   "source": [
    "model = [lr, knr, dtr, svr, rfr, ls, rd, eln]\n",
    "for m in model:\n",
    "    print(m)\n",
    "    m.fit(x_train, y_train)\n",
    "    a = m.score(x_train, y_train)\n",
    "    pred = m.predict(x_test)\n",
    "    print('Score: ', a)\n",
    "    print('Mean absolute error: ', mean_absolute_error(y_test,pred))\n",
    "    print('Mean squared error: ', mean_squared_error(y_test,pred))\n",
    "    print('Root mean squared error: ', np.sqrt(mean_squared_error(y_test,pred)))\n",
    "    print('R2 Score: ', r2_score(y_test,pred))\n",
    "    print('\\n\\n')"
   ]
  },
  {
   "cell_type": "markdown",
   "id": "therapeutic-scientist",
   "metadata": {},
   "source": [
    "### Cross Validation"
   ]
  },
  {
   "cell_type": "code",
   "execution_count": 52,
   "id": "hollow-party",
   "metadata": {},
   "outputs": [
    {
     "name": "stdout",
     "output_type": "stream",
     "text": [
      "LinearRegression()\n",
      "Cross val score r2 score is \n",
      " [0.87988273 0.9176965  0.92510819 0.80845813 0.89565733]\n",
      "Mean \n",
      " 0.8853605756683912\n",
      "Std \n",
      " 0.04165453399577511\n",
      "y prediction \n",
      " [20.74251773 12.43566375 12.50766611 17.76131421 13.37202102 12.70140393\n",
      " 11.73597433 12.08818092  3.64841489 12.57442367  7.05846704 17.22006456\n",
      " 10.76888821  8.77761873 18.55062714 20.95685564 23.38603216  9.94287916\n",
      " 14.16397009 18.25412374 14.77536234  6.61905331 16.58509376  8.14201606\n",
      " 15.62967058 14.95486716 17.07701379 19.43019207  9.23841028 21.74636006\n",
      " 11.43262526  7.69558001 18.78847945  7.53065554 16.97886226 23.33683449\n",
      " 15.71988358  9.969369   20.50010245 16.43595562 17.20073271 21.32896388\n",
      " 13.8342759   8.91613066 15.05706368  8.84842001 21.52603698 16.17447777\n",
      "  8.16065768 12.53132274  9.22568684 20.53650333 19.88736004 20.16438212\n",
      " 21.22488898  8.56184073 12.66169274 21.7649737  17.94246586  5.71170002\n",
      " 22.77060191 16.62921564 13.09283501 16.8828321   7.75020686  8.93574466\n",
      " 11.9089931  18.77265866 20.94894577 17.67080273 10.57454861 10.32743893\n",
      "  9.84204256 17.149617   11.99698389  4.46381866 13.69718329  8.76584087\n",
      "  9.6013792  11.38400428 14.66806586 10.02209237 14.2576262  20.78301575\n",
      " 15.11097665 11.46799659 15.43774447 11.5129775  16.78306452  9.93937896\n",
      "  4.28334888 19.12566135 21.21608391 10.39128752 16.23110117 12.65177439\n",
      " 15.31923017 24.18156777 16.8364671  13.85834994 17.732629   14.75284897\n",
      " 20.36918356 17.8179677   5.91530409  6.97879195  3.36703441 19.77882024\n",
      " 14.73735558 21.187759   13.87898525 16.42960636 15.15388008 12.73730253\n",
      " 11.90313459  6.4371886  15.40380493  6.61432378 14.31006726  7.59311819\n",
      " 13.38936533 15.52901028 19.11336061  9.28875411 11.08785293  6.76542065\n",
      " 22.688499    7.98880297 11.28867362 15.02596778  9.19025833 19.1905017\n",
      " 12.15081381 14.82696653 12.23632799 20.46315477 10.25991134 20.15243086\n",
      "  9.85096885 18.18000227 19.22344252  8.74048232 10.16495136  9.73895128\n",
      " 15.12685258 23.31617089 13.00892334 10.31224891 17.95367338  9.86408674\n",
      " 16.45719932 18.40868429 15.63445546  5.84332561 15.72296218  9.8942558\n",
      " 10.90188489 12.45507799 14.18763189 13.39087444 15.08086713 17.29359181\n",
      " 11.13373172 14.53825673 10.54922806 13.6351263  17.30566791 18.28016868\n",
      "  7.38868845 14.43023446  7.48557272 12.17303817 14.05506554 24.7805366\n",
      " 20.09645718 12.35652724 16.4065628  12.55694502 10.81182577 14.21345261\n",
      "  6.6055945  24.18689737 18.73765381 20.73082842  9.89246756 17.12505006\n",
      " 18.95760772  5.99548529 12.21779859  8.46325773  4.47487894 18.38983018\n",
      " 16.4281097   5.41569311  8.2813139  12.98265448 23.82502146 15.45405855]\n",
      "\n",
      "\n",
      "\n",
      "KNeighborsRegressor()\n",
      "Cross val score r2 score is \n",
      " [0.95501405 0.9590713  0.96740045 0.90408791 0.95871984]\n",
      "Mean \n",
      " 0.9488587105643586\n",
      "Std \n",
      " 0.022749273760550866\n",
      "y prediction \n",
      " [21.2  10.68  9.74 18.06 13.34  9.88 10.46 12.18  7.16 12.08  8.9  16.7\n",
      " 10.12 10.16 18.9  23.34 24.7  10.88 15.02 19.04 12.08  8.42 15.68  9.3\n",
      " 12.58 15.6  15.76 18.78 10.54 20.7  11.72 10.28 18.06  9.88 14.14 22.6\n",
      " 15.48  9.   21.7  15.46 18.92 18.8  11.84  8.26 15.2  10.52 22.6  14.06\n",
      " 10.18 11.8  10.54 20.38 19.88 20.28 21.52  8.28 12.68 23.82 18.36  8.6\n",
      " 25.54 16.   14.54 15.92 10.06  9.   12.66 19.4  21.32 18.66 11.8   9.8\n",
      " 10.42 16.56 10.48  6.94 14.    7.3  10.62 10.96 12.34 11.5  14.34 21.84\n",
      " 15.46 11.36 15.82 11.26 16.6  10.38  7.64 19.68 22.54 12.02 18.18 11.62\n",
      " 15.48 25.3  16.82 12.7  13.4  14.82 20.18 20.22  7.88  9.22  7.44 18.92\n",
      " 12.7  21.96 13.26 17.1  14.34 11.8  13.1   8.74 16.6   8.74 15.54  8.04\n",
      " 11.76 15.7  19.76 10.68  9.4   9.4  22.62  8.72  8.94 12.28  8.64 18.36\n",
      "  9.74 11.16  8.94 21.08 10.9  19.64 10.16 19.62 19.7  10.5  11.02 10.52\n",
      " 12.72 24.    8.94 10.9  15.9  11.52 16.62 19.32 16.1   6.82 15.58 10.68\n",
      "  9.24 13.18 14.82 14.3  15.22 16.7  11.7  13.6   8.52 11.86 17.64 14.04\n",
      "  9.28 13.92  9.42 11.44 11.92 24.64 19.64 11.52 12.88 12.88 10.78 11.94\n",
      "  8.18 23.66 16.52 22.74 10.42 16.5  14.82  7.06  8.48 10.42  6.96 19.26\n",
      " 15.82  8.36  9.62 12.14 23.66 12.2 ]\n",
      "\n",
      "\n",
      "\n",
      "DecisionTreeRegressor()\n",
      "Cross val score r2 score is \n",
      " [0.96712375 0.94658509 0.95638914 0.9487312  0.96816045]\n",
      "Mean \n",
      " 0.9573979292206868\n",
      "Std \n",
      " 0.008982993134970946\n",
      "y prediction \n",
      " [22.2 10.9  8.7 17.2 15.   6.6 10.9 11.9  5.7 11.6  9.3 17.   8.7 10.4\n",
      " 18.3 21.2 25.5 10.9 15.5 19.4 12.3  5.5 14.8  9.7 12.7 17.3 15.7 19.8\n",
      " 10.9 20.8 11.9  9.4 15.7  9.4 12.3 24.2 13.6 10.9 21.7 16.6 19.  21.4\n",
      " 12.2  7.6 14.1  9.7 25.4 16.1  9.7 11.7  9.9 21.7 19.6 20.2 22.4  5.7\n",
      " 13.2 21.7 19.   7.6 25.4 15.9 12.  17.2  9.9  7.6 12.2 18.9 21.7 19.\n",
      " 12.2  9.2 11.7 17.4  9.3  7.3 15.   1.6 12.2 12.  12.5 11.8 11.3 22.6\n",
      " 14.8 11.8 15.3 11.4 14.7 11.   6.9 19.  21.5 12.4 18.5 11.4 14.9 26.2\n",
      " 18.  12.2 12.6 14.9 20.2 18.   6.7  9.6  5.6 18.9 12.9 24.4 15.6 16.6\n",
      " 14.7 13.3 12.9  8.8 15.2  6.7 12.9  7.6 11.5 15.  19.4  9.7  5.5  9.4\n",
      " 23.7  9.7  5.3 11.8  4.8 19.   9.5 13.6  8.  21.4 11.8 21.2 11.5 19.4\n",
      " 19.   9.7 11.3 10.3 12.2 23.7  9.5 11.8 15.9 12.4 14.7 18.  14.7  5.3\n",
      " 14.6 10.3  5.6 13.2 14.5 12.6 14.8 17.1 13.2 12.5  9.5 11.7 17.  14.7\n",
      "  9.7 14.9  6.6 11.7 11.7 25.4 18.9 11.7 12.8 12.2 10.3 11.7  8.1 24.4\n",
      " 17.  23.2 10.1 18.4 14.7  6.6 11.6  9.7  7.  19.  15.2  8.1  8.6 12.2\n",
      " 24.4 13.4]\n",
      "\n",
      "\n",
      "\n",
      "SVR()\n",
      "Cross val score r2 score is \n",
      " [0.91416761 0.9507874  0.96562027 0.84446763 0.9266577 ]\n",
      "Mean \n",
      " 0.9203401233430398\n",
      "Std \n",
      " 0.04198089041306168\n",
      "y prediction \n",
      " [21.20106923 11.14345406 11.86241037 18.64650288 13.23091757 12.19615898\n",
      " 10.69526853 12.86038237  8.4267524  11.40120372  8.7276446  17.21770315\n",
      " 10.64219781 10.14849113 19.54567286 21.88334312 22.64225632 10.24762353\n",
      " 14.7820722  18.45359366 12.5441211   8.75751381 15.52465342  9.10492075\n",
      " 12.7707942  15.7015983  15.78932039 19.21837525 10.21891806 20.09327037\n",
      " 12.11732308  9.57674669 17.04559182  9.50069774 13.58859563 21.06406792\n",
      " 14.65218201  9.30445905 21.68067571 16.32874636 18.32826677 19.02992267\n",
      " 12.60395808  9.15973619 15.47028798 10.23572173 21.79618193 15.12264697\n",
      "  9.66155844 11.47181138 10.61471377 21.78543833 20.57321688 19.83914609\n",
      " 21.13418106  8.65845708 13.39071702 21.79556627 18.70585256  8.19264776\n",
      " 22.74038352 15.35235816 13.4771122  17.26461305  9.67889564  9.65390775\n",
      " 12.62156211 18.98277042 21.74339577 18.6277072  11.41836887  9.56655061\n",
      " 10.66017791 17.57554672 11.69559673  7.7017143  14.32704427  8.85405601\n",
      " 10.45721894 11.52655205 12.32371879 10.73748473 12.93762646 22.26432982\n",
      " 14.86018536 11.52578733 15.4281137  12.58553967 16.41246649 10.68945017\n",
      "  8.39488697 20.30529588 21.16834479 11.38992175 17.21365408 11.76117814\n",
      " 15.5164558  23.08551978 17.62089726 12.32699907 14.54230247 14.68396439\n",
      " 20.10877256 18.19978453  8.12546956  9.14917495  7.92860548 18.89025018\n",
      " 13.14703469 21.77330245 14.11853424 16.30931905 13.942449   12.25719525\n",
      " 12.48072204  8.74331807 15.5275945   8.00060411 14.90420372  9.06655634\n",
      " 11.7952621  15.53503214 19.57723532 10.053642    9.84878504  9.11051125\n",
      " 19.94932158  9.53110267 10.66660196 12.42060867  9.60231558 20.49855611\n",
      " 11.03976564 13.15058622 11.21137738 19.97681739  9.72677056 19.06788635\n",
      " 10.24740556 19.08683672 20.3799016  10.19599039 11.00894307 10.61132987\n",
      " 13.30116844 23.36541526 11.7790083   9.79091068 15.41726532 11.42394976\n",
      " 16.65276159 19.62308257 15.78402041  7.89332796 15.00832585 10.53656814\n",
      "  9.67553624 12.87418271 14.24223111 13.32289052 14.74108066 17.74729172\n",
      " 11.99146568 13.60527521  9.65416957 12.01959662 16.99949277 14.9135266\n",
      "  8.76505735 14.5742994   8.39288767 11.796944   12.02813973 22.5514258\n",
      " 20.07271048 11.93701438 12.71594217 12.29907075 10.87518163 12.21910236\n",
      "  8.68673503 21.05694258 17.48263867 21.22620983 10.41415634 17.70433812\n",
      " 15.82539421  7.81505772 11.1431436   9.82266483  7.8695358  18.25114497\n",
      " 16.78375111  7.90789326  9.65279969 12.56836711 21.69005893 13.4715685 ]\n",
      "\n",
      "\n",
      "\n",
      "RandomForestRegressor()\n",
      "Cross val score r2 score is \n",
      " [0.98049518 0.98283573 0.9786517  0.95992288 0.98093983]\n",
      "Mean \n",
      " 0.9765690653045855\n",
      "Std \n",
      " 0.008428781210822875\n",
      "y prediction \n",
      " [21.429 11.173  8.124 17.849 14.25   7.023 11.023 12.713  5.347 11.599\n",
      "  9.152 17.005  8.272 10.448 18.404 22.439 23.204 10.708 15.009 19.097\n",
      " 12.219  6.284 15.273  9.614 12.097 16.188 15.329 19.492 10.92  20.379\n",
      " 12.481  9.618 16.029  9.602 12.254 24.724 13.818 10.302 21.331 16.341\n",
      " 18.528 20.704 12.749  8.036 15.331 10.018 23.285 15.648  9.687 11.641\n",
      "  9.919 21.26  20.752 20.173 22.664  6.243 13.229 22.756 18.5    8.703\n",
      " 24.852 15.606 12.224 16.919  9.559  8.116 12.653 19.248 22.031 18.616\n",
      " 11.938  8.844 11.329 17.146  8.187  7.515 14.533  4.34  11.383 11.675\n",
      " 12.25  11.352 12.412 22.509 15.105 11.947 15.06  12.429 15.042 10.998\n",
      "  7.098 19.172 21.068 12.193 17.333 11.949 15.409 25.277 17.014 12.159\n",
      " 13.482 15.072 19.924 17.442  7.498  9.584  5.853 19.208 12.882 22.411\n",
      " 14.735 16.531 13.764 13.085 12.882  9.359 15.479  7.093 14.808  7.463\n",
      " 11.275 15.341 19.699 10.113  6.518  9.062 23.185  9.464  6.452 11.703\n",
      "  5.473 19.159  9.961 11.204  8.749 20.617  9.966 20.895 11.094 19.007\n",
      " 19.057 10.596 11.168 10.564 12.445 23.513  9.882  9.995 15.38  11.82\n",
      " 16.171 18.497 15.187  5.256 14.275 10.583  6.491 13.192 14.163 13.446\n",
      " 15.05  18.166 12.459 12.214  8.329 11.976 16.394 14.422  9.521 14.945\n",
      "  6.888 12.282 11.821 25.182 19.852 12.219 12.273 13.146 10.812 12.068\n",
      "  8.898 24.151 16.221 22.367 10.49  18.15  15.657  6.7   11.299 10.145\n",
      "  6.918 18.784 16.613  8.503  9.711 13.186 24.162 13.151]\n",
      "\n",
      "\n",
      "\n",
      "Lasso()\n",
      "Cross val score r2 score is \n",
      " [0.17181502 0.12142708 0.20237297 0.11025393 0.16676992]\n",
      "Mean \n",
      " 0.1545277837938553\n",
      "Std \n",
      " 0.03404030071151291\n",
      "y prediction \n",
      " [14.52895008 13.28547726 13.1025742  14.00235006 14.19865261 13.04562636\n",
      " 13.37257396 13.79264802 13.04495639 14.32594778 13.43019177 14.42577399\n",
      " 13.14679252 13.64056379 14.35475669 14.2964689  14.87264704 13.45096098\n",
      " 13.97421113 14.45056305 14.57785822 13.07577522 14.51689054 13.40473274\n",
      " 14.74870174 13.94473225 14.59594754 14.65423533 13.46034063 14.94969411\n",
      " 13.74373987 13.63855386 14.76679105 13.62850425 14.93495467 14.77550072\n",
      " 13.48780958 13.27609762 14.51488061 14.3440371  14.00467827 14.66452565\n",
      " 14.17388442 13.14506579 13.99392604 13.51064161 14.36063368 14.28876351\n",
      " 13.38161485 14.13370503 13.57119364 14.22764557 14.03636906 14.48966043\n",
      " 14.12861187 13.04433437 13.77378829 14.19595479 14.19538888 13.30578333\n",
      " 14.48173774 14.35723823 13.5842095  13.74492704 13.39349889 13.18128383\n",
      " 13.7913314  14.346486   14.2299092  14.12974369 13.62438888 13.15468621\n",
      " 13.73530662 14.21066836 13.09866143 13.15864755 13.68494091 13.03358214\n",
      " 13.6594751  13.435376   14.76282889 13.24799618 13.18445609 14.52063983\n",
      " 14.33370303 13.25720489 13.5739845  13.36770941 13.56569666 13.79131004\n",
      " 12.81794945 14.55931641 14.86504557 13.54359576 14.05836262 14.37422135\n",
      " 14.25727074 15.2223435  13.79959788 14.60259735 15.13486076 14.28489687\n",
      " 14.74809496 13.8244614  12.78479809 13.3870477  12.67521445 14.90648476\n",
      " 14.63390696 14.78032544 14.17255062 14.48472587 13.27470144 13.24615444\n",
      " 13.83643272 13.25812576 13.71211514 12.73322932 13.85577101 12.7277041\n",
      " 14.59916078 14.02147611 14.63065003 13.81593717 13.36134686 13.77585994\n",
      " 14.5779771  13.65791837 13.3206971  14.83504391 13.36478205 14.57511444\n",
      " 13.52795364 13.59322227 13.46325753 14.88370912 13.56287808 14.37530081\n",
      " 13.73692777 14.42568362 14.57912216 13.91555772 13.86746504 14.1199516\n",
      " 14.69133841 14.7090869  13.53425149 13.57261112 14.92378635 14.00945294\n",
      " 14.44801236 14.29743648 14.39190424 13.34016318 13.85429681 14.17434213\n",
      " 13.3836756  14.07071386 14.30430686 13.56745686 14.37472005 14.17899606\n",
      " 13.81505949 14.73708454 13.03452166 14.51935143 14.58695088 15.12853251\n",
      " 13.28684054 14.18685646 13.04788435 14.21751203 14.64197368 15.07036554\n",
      " 14.84634411 14.23166075 15.06879346 14.1955029  14.12475929 14.61131812\n",
      " 13.33557503 15.15447184 14.88879028 14.50520271 13.99034644 14.39594313\n",
      " 15.14189519 13.04080998 13.20430633 13.48728077 13.02901938 14.20493538\n",
      " 14.07052253 13.19408781 13.63427027 14.28511148 15.12303023 14.71821958]\n",
      "\n",
      "\n",
      "\n",
      "Ridge()\n",
      "Cross val score r2 score is \n",
      " [0.87658712 0.90798551 0.93331047 0.79898864 0.89620923]\n",
      "Mean \n",
      " 0.8826161957072032\n",
      "Std \n",
      " 0.045668806503319795\n",
      "y prediction \n",
      " [20.42178807 12.61538797 12.77466384 17.61567069 13.50640141 12.97786938\n",
      " 11.8819657  12.15461898  4.25487709 12.62483657  7.51090834 16.90227706\n",
      " 11.13605709  9.05020085 18.29702828 20.57230997 22.83317961 10.1850497\n",
      " 14.11500065 18.0428582  14.68135593  7.20233226 16.38436813  8.50355518\n",
      " 15.45977629 14.83214877 16.82972032 19.02699274  9.60604521 21.25348249\n",
      " 11.63926262  8.11977419 18.34334232  7.88591803 16.67538661 22.61055743\n",
      " 15.68000719 10.27529992 20.06392519 16.27002343 16.99162528 20.7031639\n",
      " 13.82973423  9.30186839 14.97715407  9.22165228 20.93845986 16.08918065\n",
      "  8.58425913 12.65045946  9.45551641 20.09445864 19.55709535 19.66998471\n",
      " 20.80474885  8.96350338 12.6950779  21.22571478 17.57706388  6.25477942\n",
      " 22.22869386 16.42993914 13.05938787 16.65349884  8.07237241  9.17039803\n",
      " 11.97415546 18.357425   20.4315057  17.43107834 10.81082521 10.52281545\n",
      " 10.13329188 16.8562455  12.32635891  5.09088663 13.64392437  9.03503333\n",
      "  9.87790172 11.52155125 14.67054891 10.3001648  14.23972147 20.32477775\n",
      " 15.17989769 11.57842644 15.45175843 11.84392865 16.65426968 10.14976688\n",
      "  4.96577529 18.88515162 20.88435613 10.56809765 16.16202104 12.66972266\n",
      " 15.20295873 23.56464118 16.68935005 13.9643545  17.46469756 14.66253687\n",
      " 19.837803   17.65098278  6.46616836  7.44501101  4.08316169 19.29539157\n",
      " 14.80648451 20.66694341 13.78904125 16.19615475 15.06955608 12.89674826\n",
      " 12.03555004  6.90658098 15.48571039  7.08475987 14.34827545  8.10066729\n",
      " 13.40605372 15.3571178  18.96152578  9.60136066 11.35233804  7.18755504\n",
      " 21.99971044  8.45463966 11.37036454 15.04672239  9.3954209  18.91492014\n",
      " 12.4073856  14.67040564 12.25983266 20.16945906 10.47159817 19.62754497\n",
      " 10.06875679 18.09060198 18.91703787  9.12989753 10.46983982  9.96573209\n",
      " 14.99764796 22.75254729 12.99143324 10.52106926 17.74811355 10.23537036\n",
      " 16.2456037  18.146654   15.45967035  6.29756519 15.68189005 10.17339379\n",
      " 11.15893483 12.5903161  14.1954143  13.48505727 14.99397038 16.98615021\n",
      " 11.25216953 14.68840445 10.74617536 13.63425268 17.16753759 17.91795551\n",
      "  7.8058503  14.45641672  7.8865552  12.24919553 14.00632109 24.06759416\n",
      " 19.64390626 12.49219033 16.23271578 12.62076667 10.96874816 14.19896444\n",
      "  7.11608749 23.61484216 18.41422587 20.2239738  10.1714069  16.86881206\n",
      " 18.53860129  6.52332154 12.2480393   8.76768636  5.13746442 17.99240845\n",
      " 16.17575419  5.95695365  8.60842513 12.98171821 23.26008546 15.29279157]\n",
      "\n",
      "\n",
      "\n",
      "ElasticNet()\n",
      "Cross val score r2 score is \n",
      " [0.14182507 0.11657843 0.15133161 0.09004429 0.1347894 ]\n",
      "Mean \n",
      " 0.12691376059275797\n",
      "Std \n",
      " 0.021664632152006657\n",
      "y prediction \n",
      " [14.50225228 13.80960613 13.80002125 14.25037007 13.92186687 13.81071003\n",
      " 13.76559913 13.81594465 13.13322158 13.87635738 13.40806265 14.24332111\n",
      " 13.66916905 13.55495925 14.33128863 14.51193033 14.72574117 13.63267407\n",
      " 13.98246123 14.31109358 14.05724453 13.35058507 14.19294261 13.49181955\n",
      " 14.13224159 14.04365358 14.23546554 14.41941807 13.57295636 14.60651437\n",
      " 13.75601832 13.46554965 14.38135592 13.45832955 14.24792068 14.73069843\n",
      " 14.07196872 13.62192062 14.49272287 14.17176939 14.08050788 14.44676823\n",
      " 13.88426513 13.41690617 13.9390273  13.46398392 14.41584323 14.05148594\n",
      " 13.40081462 13.79234963 13.50034428 14.33032963 14.25926231 14.34464514\n",
      " 14.35973338 13.3798522  13.75271386 14.40674994 14.15859718 13.23107321\n",
      " 14.51075306 14.09308761 13.75550064 14.02454439 13.3790911  13.42730641\n",
      " 13.70638138 14.2339018  14.35894716 14.12872924 13.59347413 13.51325978\n",
      " 13.56083778 14.10830173 13.60809818 13.12880376 13.80858008 13.3949281\n",
      " 13.53532556 13.62128986 14.06698245 13.56599397 13.8378908  14.43906919\n",
      " 14.04599421 13.65993067 13.97002547 13.68628708 14.05584548 13.62625549\n",
      " 13.1323697  14.33870367 14.51789241 13.62466659 14.08264858 13.87923451\n",
      " 14.04291604 14.75587364 14.08838679 13.99514138 14.31428948 14.0084088\n",
      " 14.4362412  14.15845219 13.23529839 13.38143149 13.05245584 14.41756313\n",
      " 14.05823439 14.49727072 13.93387493 14.1434516  13.90839873 13.74820513\n",
      " 13.76425033 13.32785105 13.98802685 13.27364271 13.92888939 13.34206415\n",
      " 14.12917833 14.26700534 14.62436537 13.7720311  13.9084591  13.55872791\n",
      " 14.8555117  13.67303399 13.89329175 14.28963801 13.72487861 14.60751325\n",
      " 14.01142107 14.1870191  13.97594147 14.73399695 13.83232069 14.64347298\n",
      " 13.80352301 14.54106585 14.60534046 13.73957371 13.85298991 13.8113867\n",
      " 14.26659374 14.94028585 14.04249001 13.83702592 14.5217032  13.84316263\n",
      " 14.36334952 14.52642873 14.29213356 13.46122478 14.30024533 13.83702673\n",
      " 13.89113566 14.04157809 14.18785261 13.91578644 14.13089523 14.24109295\n",
      " 13.80518703 14.15134193 13.66239441 14.05981309 14.30185286 14.43348661\n",
      " 13.49900509 14.06597276 13.47207142 13.9262206  14.10250042 14.83517009\n",
      " 14.50942389 13.94137368 14.30928726 13.9475948  13.82788531 14.10929355\n",
      " 13.4575518  14.811881   14.43093826 14.50212926 13.75322751 14.26123154\n",
      " 14.4775321  13.37829686 13.78901957 13.59292137 13.28210041 14.31300548\n",
      " 14.17186815 13.36235958 13.60192418 13.98572337 14.78446733 14.20024648]\n",
      "\n",
      "\n",
      "\n"
     ]
    }
   ],
   "source": [
    "from sklearn.model_selection import cross_val_score\n",
    "from sklearn.model_selection import cross_val_predict\n",
    "model = [lr, knr, dtr, svr, rfr, ls, rd, eln]\n",
    "for m in model:\n",
    "    print(m)\n",
    "    score=cross_val_score(m,x,y,cv=5)\n",
    "    print('Cross val score r2 score is \\n',score)\n",
    "    print('Mean \\n', score.mean())\n",
    "    print('Std \\n',score.std())\n",
    "    y_pred=cross_val_predict(m,x,y,cv=5)\n",
    "    print('y prediction \\n',y_pred)\n",
    "    print('\\n\\n')"
   ]
  },
  {
   "cell_type": "markdown",
   "id": "becoming-procurement",
   "metadata": {},
   "source": [
    "RandomForestRegressor Having least differnce in the variance."
   ]
  },
  {
   "cell_type": "markdown",
   "id": "demographic-belly",
   "metadata": {},
   "source": [
    "### Doing the RandomForestRegressor separately"
   ]
  },
  {
   "cell_type": "code",
   "execution_count": 53,
   "id": "packed-browser",
   "metadata": {},
   "outputs": [],
   "source": [
    "rfr.fit(x_train, y_train)\n",
    "a = rfr.score(x_train, y_train)\n",
    "pred_train = rfr.predict(x_train)\n",
    "pred_test_rfr = rfr.predict(x_test)"
   ]
  },
  {
   "cell_type": "code",
   "execution_count": 54,
   "id": "advisory-correlation",
   "metadata": {},
   "outputs": [
    {
     "data": {
      "image/png": "[encoded data removed]",
      "text/plain": [
       "<Figure size 576x432 with 1 Axes>"
      ]
     },
     "metadata": {
      "needs_background": "light"
     },
     "output_type": "display_data"
    }
   ],
   "source": [
    "plt.figure(figsize = (8,6))\n",
    "plt.scatter(x = y_test, y = pred_test_rfr, color = 'r')\n",
    "plt.plot(y_test, y_test, color = 'b')\n",
    "plt.xlabel('Actual Score: ', fontsize = 14)\n",
    "plt.ylabel('Predicted Score: ', fontsize = 14)\n",
    "plt.title('Random forest', fontsize = 18)\n",
    "plt.show()"
   ]
  },
  {
   "cell_type": "markdown",
   "id": "mature-secretariat",
   "metadata": {},
   "source": [
    "The model looks like a good fit."
   ]
  },
  {
   "cell_type": "markdown",
   "id": "educational-contrast",
   "metadata": {},
   "source": [
    "### Regularization using GridSearchCV"
   ]
  },
  {
   "cell_type": "code",
   "execution_count": 55,
   "id": "infectious-hostel",
   "metadata": {},
   "outputs": [],
   "source": [
    "from sklearn.model_selection import GridSearchCV"
   ]
  },
  {
   "cell_type": "code",
   "execution_count": 56,
   "id": "ecological-corner",
   "metadata": {},
   "outputs": [
    {
     "name": "stdout",
     "output_type": "stream",
     "text": [
      "{'criterion': 'mae', 'max_features': 'auto'}\n"
     ]
    }
   ],
   "source": [
    "parameters = {'criterion':['mse', 'mae'], 'max_features':['auto', 'sqrt', 'log2']}\n",
    "rfr = RandomForestRegressor()\n",
    "gscv = GridSearchCV(rfr, parameters)\n",
    "gscv.fit(x_train, y_train)\n",
    "\n",
    "print(gscv.best_params_)"
   ]
  },
  {
   "cell_type": "code",
   "execution_count": 57,
   "id": "intermediate-index",
   "metadata": {},
   "outputs": [
    {
     "data": {
      "text/html": [
       "<div>\n",
       "<style scoped>\n",
       "    .dataframe tbody tr th:only-of-type {\n",
       "        vertical-align: middle;\n",
       "    }\n",
       "\n",
       "    .dataframe tbody tr th {\n",
       "        vertical-align: top;\n",
       "    }\n",
       "\n",
       "    .dataframe thead th {\n",
       "        text-align: right;\n",
       "    }\n",
       "</style>\n",
       "<table border=\"1\" class=\"dataframe\">\n",
       "  <thead>\n",
       "    <tr style=\"text-align: right;\">\n",
       "      <th></th>\n",
       "      <th>0</th>\n",
       "      <th>1</th>\n",
       "      <th>2</th>\n",
       "      <th>3</th>\n",
       "      <th>4</th>\n",
       "      <th>5</th>\n",
       "      <th>6</th>\n",
       "      <th>7</th>\n",
       "      <th>8</th>\n",
       "      <th>9</th>\n",
       "      <th>...</th>\n",
       "      <th>50</th>\n",
       "      <th>51</th>\n",
       "      <th>52</th>\n",
       "      <th>53</th>\n",
       "      <th>54</th>\n",
       "      <th>55</th>\n",
       "      <th>56</th>\n",
       "      <th>57</th>\n",
       "      <th>58</th>\n",
       "      <th>59</th>\n",
       "    </tr>\n",
       "  </thead>\n",
       "  <tbody>\n",
       "    <tr>\n",
       "      <th>Predicted</th>\n",
       "      <td>15.034</td>\n",
       "      <td>16.573</td>\n",
       "      <td>14.714</td>\n",
       "      <td>9.751</td>\n",
       "      <td>23.207</td>\n",
       "      <td>11.72</td>\n",
       "      <td>19.425</td>\n",
       "      <td>19.171</td>\n",
       "      <td>22.579</td>\n",
       "      <td>17.844</td>\n",
       "      <td>...</td>\n",
       "      <td>12.346</td>\n",
       "      <td>10.888</td>\n",
       "      <td>13.405</td>\n",
       "      <td>18.879</td>\n",
       "      <td>11.497</td>\n",
       "      <td>8.092</td>\n",
       "      <td>14.41</td>\n",
       "      <td>10.002</td>\n",
       "      <td>7.089</td>\n",
       "      <td>18.093</td>\n",
       "    </tr>\n",
       "    <tr>\n",
       "      <th>Actual</th>\n",
       "      <td>15.500</td>\n",
       "      <td>18.000</td>\n",
       "      <td>15.000</td>\n",
       "      <td>9.700</td>\n",
       "      <td>22.300</td>\n",
       "      <td>10.60</td>\n",
       "      <td>19.600</td>\n",
       "      <td>19.400</td>\n",
       "      <td>22.600</td>\n",
       "      <td>18.000</td>\n",
       "      <td>...</td>\n",
       "      <td>11.700</td>\n",
       "      <td>11.800</td>\n",
       "      <td>12.900</td>\n",
       "      <td>19.200</td>\n",
       "      <td>11.400</td>\n",
       "      <td>9.500</td>\n",
       "      <td>14.10</td>\n",
       "      <td>10.100</td>\n",
       "      <td>6.600</td>\n",
       "      <td>17.100</td>\n",
       "    </tr>\n",
       "  </tbody>\n",
       "</table>\n",
       "<p>2 rows × 60 columns</p>\n",
       "</div>"
      ],
      "text/plain": [
       "               0       1       2      3       4      5       6       7   \\\n",
       "Predicted  15.034  16.573  14.714  9.751  23.207  11.72  19.425  19.171   \n",
       "Actual     15.500  18.000  15.000  9.700  22.300  10.60  19.600  19.400   \n",
       "\n",
       "               8       9   ...      50      51      52      53      54     55  \\\n",
       "Predicted  22.579  17.844  ...  12.346  10.888  13.405  18.879  11.497  8.092   \n",
       "Actual     22.600  18.000  ...  11.700  11.800  12.900  19.200  11.400  9.500   \n",
       "\n",
       "              56      57     58      59  \n",
       "Predicted  14.41  10.002  7.089  18.093  \n",
       "Actual     14.10  10.100  6.600  17.100  \n",
       "\n",
       "[2 rows x 60 columns]"
      ]
     },
     "execution_count": 57,
     "metadata": {},
     "output_type": "execute_result"
    }
   ],
   "source": [
    "rfr_reg = RandomForestRegressor(criterion = 'mae', max_features = 'auto')\n",
    "rfr_reg = RandomForestRegressor()\n",
    "rfr_reg.fit(x_train, y_train)\n",
    "rfr_reg.score(x_train, y_train)\n",
    "predrfr_reg = rfr_reg.predict(x_test)\n",
    "data = [predrfr_reg, y_test]\n",
    "pd.DataFrame(data, index = ['Predicted', 'Actual'])"
   ]
  },
  {
   "cell_type": "code",
   "execution_count": 58,
   "id": "residential-sunset",
   "metadata": {},
   "outputs": [
    {
     "name": "stdout",
     "output_type": "stream",
     "text": [
      "Errors:\n",
      "\n",
      "\n",
      "Mean absolute error:  0.6105333333333324\n",
      "Mean squared error:  0.7098423666666623\n",
      "Root mean squared error:  0.8425214339508891\n",
      "\n",
      "\n",
      "R2 Score:  0.97689548154822\n"
     ]
    }
   ],
   "source": [
    "print('Errors:')\n",
    "print('\\n')\n",
    "print('Mean absolute error: ', mean_absolute_error(y_test,predrfr_reg))\n",
    "print('Mean squared error: ', mean_squared_error(y_test,predrfr_reg))\n",
    "print('Root mean squared error: ', np.sqrt(mean_squared_error(y_test,predrfr_reg)))\n",
    "print('\\n')\n",
    "print('R2 Score: ', r2_score(y_test,predrfr_reg))"
   ]
  },
  {
   "cell_type": "markdown",
   "id": "funky-short",
   "metadata": {},
   "source": [
    "We're getting a model accuracy of 97.6%."
   ]
  },
  {
   "cell_type": "markdown",
   "id": "available-network",
   "metadata": {},
   "source": [
    "### Saving the model"
   ]
  },
  {
   "cell_type": "code",
   "execution_count": 60,
   "id": "owned-details",
   "metadata": {},
   "outputs": [
    {
     "data": {
      "text/plain": [
       "['Adv.obj']"
      ]
     },
     "execution_count": 60,
     "metadata": {},
     "output_type": "execute_result"
    }
   ],
   "source": [
    "import joblib\n",
    "joblib.dump(rfr_reg, 'Adv.obj')"
   ]
  },
  {
   "cell_type": "markdown",
   "id": "julian-western",
   "metadata": {},
   "source": [
    "### Conclsion"
   ]
  },
  {
   "cell_type": "code",
   "execution_count": 62,
   "id": "tough-madagascar",
   "metadata": {},
   "outputs": [
    {
     "data": {
      "text/plain": [
       "array([10.725, 13.326, 12.63 , 11.991, 25.634, 12.342,  8.605,  4.025,\n",
       "       16.288,  7.107,  8.944, 12.796, 24.968, 11.558, 20.122, 15.193,\n",
       "        6.264,  9.187,  7.077,  8.237, 16.01 , 14.062, 12.861, 14.999,\n",
       "       16.615, 21.103, 14.868, 11.477, 14.588,  5.006, 13.693, 10.33 ,\n",
       "        7.825,  7.288,  9.555, 11.86 , 19.199,  9.554, 10.533, 11.889,\n",
       "       18.567, 10.926, 12.294, 10.615, 11.049, 23.556, 23.516,  8.747,\n",
       "       15.537, 13.202, 11.703, 10.544, 10.428, 25.322, 14.265, 21.953,\n",
       "       12.898, 24.358, 11.379,  6.539, 12.11 , 11.624, 12.701, 11.942,\n",
       "       24.384, 11.02 , 12.197, 17.119, 18.521, 10.364,  9.571, 13.004,\n",
       "        5.364,  9.588, 18.363, 15.109, 14.871, 20.537, 14.436, 14.838,\n",
       "       11.717, 13.98 ,  7.291, 21.89 ,  9.889, 10.328, 16.855, 11.125,\n",
       "        8.808, 18.444, 20.429,  8.687,  9.874, 16.06 , 11.823,  6.057,\n",
       "        9.673, 17.267,  9.948, 16.414,  8.91 ,  7.219, 15.771, 10.57 ,\n",
       "       15.84 , 12.47 ,  8.812, 14.319, 12.376,  8.256, 13.327, 12.156,\n",
       "       12.775, 10.432, 18.232, 20.074, 10.671, 19.898, 24.936, 22.242,\n",
       "       16.345, 12.167,  8.961, 15.955, 15.074, 10.812, 25.147, 19.702,\n",
       "       10.423, 21.839, 15.632, 18.797, 11.103,  8.678, 12.246, 19.857,\n",
       "       11.953, 16.98 ])"
      ]
     },
     "execution_count": 62,
     "metadata": {},
     "output_type": "execute_result"
    }
   ],
   "source": [
    "final = joblib.load('Adv.obj')\n",
    "final.predict(x_train)"
   ]
  },
  {
   "cell_type": "code",
   "execution_count": 107,
   "id": "threaded-psychology",
   "metadata": {},
   "outputs": [],
   "source": [
    "conclusion = pd.DataFrame([final.predict(x_test)[:], predrfr_reg[:]], index = ['Predicted', 'Original'])"
   ]
  },
  {
   "cell_type": "code",
   "execution_count": 108,
   "id": "manual-orbit",
   "metadata": {},
   "outputs": [
    {
     "data": {
      "text/html": [
       "<div>\n",
       "<style scoped>\n",
       "    .dataframe tbody tr th:only-of-type {\n",
       "        vertical-align: middle;\n",
       "    }\n",
       "\n",
       "    .dataframe tbody tr th {\n",
       "        vertical-align: top;\n",
       "    }\n",
       "\n",
       "    .dataframe thead th {\n",
       "        text-align: right;\n",
       "    }\n",
       "</style>\n",
       "<table border=\"1\" class=\"dataframe\">\n",
       "  <thead>\n",
       "    <tr style=\"text-align: right;\">\n",
       "      <th></th>\n",
       "      <th>0</th>\n",
       "      <th>1</th>\n",
       "      <th>2</th>\n",
       "      <th>3</th>\n",
       "      <th>4</th>\n",
       "      <th>5</th>\n",
       "      <th>6</th>\n",
       "      <th>7</th>\n",
       "      <th>8</th>\n",
       "      <th>9</th>\n",
       "      <th>...</th>\n",
       "      <th>50</th>\n",
       "      <th>51</th>\n",
       "      <th>52</th>\n",
       "      <th>53</th>\n",
       "      <th>54</th>\n",
       "      <th>55</th>\n",
       "      <th>56</th>\n",
       "      <th>57</th>\n",
       "      <th>58</th>\n",
       "      <th>59</th>\n",
       "    </tr>\n",
       "  </thead>\n",
       "  <tbody>\n",
       "    <tr>\n",
       "      <th>Predicted</th>\n",
       "      <td>15.286</td>\n",
       "      <td>16.571</td>\n",
       "      <td>14.493</td>\n",
       "      <td>9.862</td>\n",
       "      <td>23.305</td>\n",
       "      <td>11.77</td>\n",
       "      <td>19.244</td>\n",
       "      <td>19.13</td>\n",
       "      <td>22.54</td>\n",
       "      <td>17.716</td>\n",
       "      <td>...</td>\n",
       "      <td>12.373</td>\n",
       "      <td>10.854</td>\n",
       "      <td>13.177</td>\n",
       "      <td>18.752</td>\n",
       "      <td>11.304</td>\n",
       "      <td>8.503</td>\n",
       "      <td>14.321</td>\n",
       "      <td>10.058</td>\n",
       "      <td>7.055</td>\n",
       "      <td>17.981</td>\n",
       "    </tr>\n",
       "    <tr>\n",
       "      <th>Original</th>\n",
       "      <td>15.286</td>\n",
       "      <td>16.571</td>\n",
       "      <td>14.493</td>\n",
       "      <td>9.862</td>\n",
       "      <td>23.305</td>\n",
       "      <td>11.77</td>\n",
       "      <td>19.244</td>\n",
       "      <td>19.13</td>\n",
       "      <td>22.54</td>\n",
       "      <td>17.716</td>\n",
       "      <td>...</td>\n",
       "      <td>12.373</td>\n",
       "      <td>10.854</td>\n",
       "      <td>13.177</td>\n",
       "      <td>18.752</td>\n",
       "      <td>11.304</td>\n",
       "      <td>8.503</td>\n",
       "      <td>14.321</td>\n",
       "      <td>10.058</td>\n",
       "      <td>7.055</td>\n",
       "      <td>17.981</td>\n",
       "    </tr>\n",
       "  </tbody>\n",
       "</table>\n",
       "<p>2 rows × 60 columns</p>\n",
       "</div>"
      ],
      "text/plain": [
       "               0       1       2      3       4      5       6      7      8   \\\n",
       "Predicted  15.286  16.571  14.493  9.862  23.305  11.77  19.244  19.13  22.54   \n",
       "Original   15.286  16.571  14.493  9.862  23.305  11.77  19.244  19.13  22.54   \n",
       "\n",
       "               9   ...      50      51      52      53      54     55      56  \\\n",
       "Predicted  17.716  ...  12.373  10.854  13.177  18.752  11.304  8.503  14.321   \n",
       "Original   17.716  ...  12.373  10.854  13.177  18.752  11.304  8.503  14.321   \n",
       "\n",
       "               57     58      59  \n",
       "Predicted  10.058  7.055  17.981  \n",
       "Original   10.058  7.055  17.981  \n",
       "\n",
       "[2 rows x 60 columns]"
      ]
     },
     "execution_count": 108,
     "metadata": {},
     "output_type": "execute_result"
    }
   ],
   "source": [
    "conclusion"
   ]
  },
  {
   "cell_type": "code",
   "execution_count": null,
   "id": "outstanding-february",
   "metadata": {},
   "outputs": [],
   "source": []
  }
 ],
 "metadata": {
  "kernelspec": {
   "display_name": "Python 3",
   "language": "python",
   "name": "python3"
  },
  "language_info": {
   "codemirror_mode": {
    "name": "ipython",
    "version": 3
   },
   "file_extension": ".py",
   "mimetype": "text/x-python",
   "name": "python",
   "nbconvert_exporter": "python",
   "pygments_lexer": "ipython3",
   "version": "3.8.3"
  }
 },
 "nbformat": 4,
 "nbformat_minor": 5
}
